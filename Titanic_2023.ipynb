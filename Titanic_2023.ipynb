{
 "cells": [
  {
   "cell_type": "markdown",
   "id": "dc9b8b3f",
   "metadata": {
    "papermill": {
     "duration": 0.023356,
     "end_time": "2023-02-24T05:13:02.473451",
     "exception": false,
     "start_time": "2023-02-24T05:13:02.450095",
     "status": "completed"
    },
    "tags": []
   },
   "source": [
    "# 0. Imports and Useful Functions"
   ]
  },
  {
   "cell_type": "code",
   "execution_count": 1,
   "id": "d9f3a332",
   "metadata": {
    "papermill": {
     "duration": 2.936786,
     "end_time": "2023-02-24T05:13:05.433931",
     "exception": false,
     "start_time": "2023-02-24T05:13:02.497145",
     "status": "completed"
    },
    "tags": []
   },
   "outputs": [],
   "source": [
    "import pandas as pd\n",
    "import numpy as np\n",
    "\n",
    "# Data Preprocessing\n",
    "from sklearn.impute import SimpleImputer\n",
    "from sklearn.feature_extraction.text import CountVectorizer\n",
    "from sklearn.pipeline import make_pipeline\n",
    "from sklearn.compose import make_column_transformer\n",
    "from sklearn.preprocessing import OneHotEncoder, OrdinalEncoder, StandardScaler\n",
    "\n",
    "# ML Models\n",
    "from sklearn.dummy import DummyClassifier\n",
    "from sklearn.linear_model import LogisticRegression\n",
    "from sklearn.tree import DecisionTreeClassifier\n",
    "from sklearn.ensemble import RandomForestClassifier\n",
    "from sklearn.svm import SVC\n",
    "from catboost import CatBoostClassifier, CatBoostRegressor\n",
    "from lightgbm.sklearn import LGBMClassifier, LGBMRegressor\n",
    "from xgboost import XGBClassifier, XGBRegressor\n",
    "\n",
    "from sklearn.utils import shuffle\n",
    "from sklearn.model_selection import (\n",
    "    GridSearchCV,\n",
    "    RandomizedSearchCV,\n",
    "    cross_val_score,\n",
    "    cross_validate,\n",
    "    train_test_split,\n",
    ")\n",
    "\n",
    "import matplotlib.pyplot as plt\n",
    "\n",
    "import re\n",
    "\n",
    "from statistics import mode\n",
    "\n",
    "import seaborn as sns\n",
    "\n",
    "from scipy.stats import uniform"
   ]
  },
  {
   "cell_type": "code",
   "execution_count": 2,
   "id": "a9737028",
   "metadata": {
    "papermill": {
     "duration": 0.038819,
     "end_time": "2023-02-24T05:13:05.497194",
     "exception": false,
     "start_time": "2023-02-24T05:13:05.458375",
     "status": "completed"
    },
    "tags": []
   },
   "outputs": [],
   "source": [
    "def mean_std_cross_val_scores(model, X_train, y_train, **kwargs):\n",
    "    \"\"\"\n",
    "    Returns mean and std of cross validation\n",
    "\n",
    "    Parameters\n",
    "    ----------\n",
    "    model :\n",
    "        scikit-learn model\n",
    "    X_train : numpy array or pandas DataFrame\n",
    "        X in the training data\n",
    "    y_train :\n",
    "        y in the training data\n",
    "\n",
    "    Returns\n",
    "    ----------\n",
    "        pandas Series with mean scores from cross_validation\n",
    "    \"\"\"\n",
    "\n",
    "    scores = cross_validate(model, X_train, y_train, **kwargs)\n",
    "\n",
    "    mean_scores = pd.DataFrame(scores).mean()\n",
    "    std_scores = pd.DataFrame(scores).std()\n",
    "    out_col = []\n",
    "\n",
    "    for i in range(len(mean_scores)):\n",
    "        out_col.append((f\"%0.3f (+/- %0.3f)\" % (mean_scores[i], std_scores[i])))\n",
    "\n",
    "    return pd.Series(data=out_col, index=mean_scores.index)"
   ]
  },
  {
   "cell_type": "markdown",
   "id": "3ad37f8b",
   "metadata": {
    "papermill": {
     "duration": 0.024362,
     "end_time": "2023-02-24T05:13:05.545679",
     "exception": false,
     "start_time": "2023-02-24T05:13:05.521317",
     "status": "completed"
    },
    "tags": []
   },
   "source": [
    "# 1. Data Read-In and Check"
   ]
  },
  {
   "cell_type": "markdown",
   "id": "e8600bc4",
   "metadata": {
    "papermill": {
     "duration": 0.027074,
     "end_time": "2023-02-24T05:13:05.597052",
     "exception": false,
     "start_time": "2023-02-24T05:13:05.569978",
     "status": "completed"
    },
    "tags": []
   },
   "source": [
    "## 1.1. Train Set"
   ]
  },
  {
   "cell_type": "code",
   "execution_count": 3,
   "id": "8282abe3",
   "metadata": {
    "papermill": {
     "duration": 0.083078,
     "end_time": "2023-02-24T05:13:05.704131",
     "exception": false,
     "start_time": "2023-02-24T05:13:05.621053",
     "status": "completed"
    },
    "tags": []
   },
   "outputs": [
    {
     "data": {
      "text/html": [
       "<div>\n",
       "<style scoped>\n",
       "    .dataframe tbody tr th:only-of-type {\n",
       "        vertical-align: middle;\n",
       "    }\n",
       "\n",
       "    .dataframe tbody tr th {\n",
       "        vertical-align: top;\n",
       "    }\n",
       "\n",
       "    .dataframe thead th {\n",
       "        text-align: right;\n",
       "    }\n",
       "</style>\n",
       "<table border=\"1\" class=\"dataframe\">\n",
       "  <thead>\n",
       "    <tr style=\"text-align: right;\">\n",
       "      <th></th>\n",
       "      <th>PassengerId</th>\n",
       "      <th>Survived</th>\n",
       "      <th>Pclass</th>\n",
       "      <th>Name</th>\n",
       "      <th>Sex</th>\n",
       "      <th>Age</th>\n",
       "      <th>SibSp</th>\n",
       "      <th>Parch</th>\n",
       "      <th>Ticket</th>\n",
       "      <th>Fare</th>\n",
       "      <th>Cabin</th>\n",
       "      <th>Embarked</th>\n",
       "    </tr>\n",
       "  </thead>\n",
       "  <tbody>\n",
       "    <tr>\n",
       "      <th>172</th>\n",
       "      <td>173</td>\n",
       "      <td>1</td>\n",
       "      <td>3</td>\n",
       "      <td>Johnson, Miss. Eleanor Ileen</td>\n",
       "      <td>female</td>\n",
       "      <td>1.0</td>\n",
       "      <td>1</td>\n",
       "      <td>1</td>\n",
       "      <td>347742</td>\n",
       "      <td>11.1333</td>\n",
       "      <td>NaN</td>\n",
       "      <td>S</td>\n",
       "    </tr>\n",
       "    <tr>\n",
       "      <th>524</th>\n",
       "      <td>525</td>\n",
       "      <td>0</td>\n",
       "      <td>3</td>\n",
       "      <td>Kassem, Mr. Fared</td>\n",
       "      <td>male</td>\n",
       "      <td>NaN</td>\n",
       "      <td>0</td>\n",
       "      <td>0</td>\n",
       "      <td>2700</td>\n",
       "      <td>7.2292</td>\n",
       "      <td>NaN</td>\n",
       "      <td>C</td>\n",
       "    </tr>\n",
       "    <tr>\n",
       "      <th>452</th>\n",
       "      <td>453</td>\n",
       "      <td>0</td>\n",
       "      <td>1</td>\n",
       "      <td>Foreman, Mr. Benjamin Laventall</td>\n",
       "      <td>male</td>\n",
       "      <td>30.0</td>\n",
       "      <td>0</td>\n",
       "      <td>0</td>\n",
       "      <td>113051</td>\n",
       "      <td>27.7500</td>\n",
       "      <td>C111</td>\n",
       "      <td>C</td>\n",
       "    </tr>\n",
       "    <tr>\n",
       "      <th>170</th>\n",
       "      <td>171</td>\n",
       "      <td>0</td>\n",
       "      <td>1</td>\n",
       "      <td>Van der hoef, Mr. Wyckoff</td>\n",
       "      <td>male</td>\n",
       "      <td>61.0</td>\n",
       "      <td>0</td>\n",
       "      <td>0</td>\n",
       "      <td>111240</td>\n",
       "      <td>33.5000</td>\n",
       "      <td>B19</td>\n",
       "      <td>S</td>\n",
       "    </tr>\n",
       "    <tr>\n",
       "      <th>620</th>\n",
       "      <td>621</td>\n",
       "      <td>0</td>\n",
       "      <td>3</td>\n",
       "      <td>Yasbeck, Mr. Antoni</td>\n",
       "      <td>male</td>\n",
       "      <td>27.0</td>\n",
       "      <td>1</td>\n",
       "      <td>0</td>\n",
       "      <td>2659</td>\n",
       "      <td>14.4542</td>\n",
       "      <td>NaN</td>\n",
       "      <td>C</td>\n",
       "    </tr>\n",
       "  </tbody>\n",
       "</table>\n",
       "</div>"
      ],
      "text/plain": [
       "     PassengerId  Survived  Pclass                             Name     Sex  \\\n",
       "172          173         1       3     Johnson, Miss. Eleanor Ileen  female   \n",
       "524          525         0       3                Kassem, Mr. Fared    male   \n",
       "452          453         0       1  Foreman, Mr. Benjamin Laventall    male   \n",
       "170          171         0       1        Van der hoef, Mr. Wyckoff    male   \n",
       "620          621         0       3              Yasbeck, Mr. Antoni    male   \n",
       "\n",
       "      Age  SibSp  Parch  Ticket     Fare Cabin Embarked  \n",
       "172   1.0      1      1  347742  11.1333   NaN        S  \n",
       "524   NaN      0      0    2700   7.2292   NaN        C  \n",
       "452  30.0      0      0  113051  27.7500  C111        C  \n",
       "170  61.0      0      0  111240  33.5000   B19        S  \n",
       "620  27.0      1      0    2659  14.4542   NaN        C  "
      ]
     },
     "execution_count": 3,
     "metadata": {},
     "output_type": "execute_result"
    }
   ],
   "source": [
    "train_df = pd.read_csv(\"data/train.csv\")\n",
    "train_df = shuffle(train_df, random_state=123)\n",
    "train_df.head()"
   ]
  },
  {
   "cell_type": "code",
   "execution_count": 4,
   "id": "29d91aa4",
   "metadata": {
    "papermill": {
     "duration": 0.057567,
     "end_time": "2023-02-24T05:13:05.786555",
     "exception": false,
     "start_time": "2023-02-24T05:13:05.728988",
     "status": "completed"
    },
    "tags": []
   },
   "outputs": [
    {
     "name": "stdout",
     "output_type": "stream",
     "text": [
      "<class 'pandas.core.frame.DataFrame'>\n",
      "Int64Index: 891 entries, 172 to 510\n",
      "Data columns (total 12 columns):\n",
      " #   Column       Non-Null Count  Dtype  \n",
      "---  ------       --------------  -----  \n",
      " 0   PassengerId  891 non-null    int64  \n",
      " 1   Survived     891 non-null    int64  \n",
      " 2   Pclass       891 non-null    int64  \n",
      " 3   Name         891 non-null    object \n",
      " 4   Sex          891 non-null    object \n",
      " 5   Age          714 non-null    float64\n",
      " 6   SibSp        891 non-null    int64  \n",
      " 7   Parch        891 non-null    int64  \n",
      " 8   Ticket       891 non-null    object \n",
      " 9   Fare         891 non-null    float64\n",
      " 10  Cabin        204 non-null    object \n",
      " 11  Embarked     889 non-null    object \n",
      "dtypes: float64(2), int64(5), object(5)\n",
      "memory usage: 90.5+ KB\n"
     ]
    }
   ],
   "source": [
    "train_df.info()"
   ]
  },
  {
   "cell_type": "markdown",
   "id": "90e404ed",
   "metadata": {
    "papermill": {
     "duration": 0.023683,
     "end_time": "2023-02-24T05:13:05.834967",
     "exception": false,
     "start_time": "2023-02-24T05:13:05.811284",
     "status": "completed"
    },
    "tags": []
   },
   "source": [
    "#### Age, Cabin, Embarked에서 결측치가 관찰되고 특히 Cabin의 결측치가 많음"
   ]
  },
  {
   "cell_type": "code",
   "execution_count": 5,
   "id": "92faba6d",
   "metadata": {
    "papermill": {
     "duration": 0.046542,
     "end_time": "2023-02-24T05:13:05.905679",
     "exception": false,
     "start_time": "2023-02-24T05:13:05.859137",
     "status": "completed"
    },
    "tags": []
   },
   "outputs": [
    {
     "data": {
      "text/plain": [
       "PassengerId    891\n",
       "Survived         2\n",
       "Pclass           3\n",
       "Name           891\n",
       "Sex              2\n",
       "Age             88\n",
       "SibSp            7\n",
       "Parch            7\n",
       "Ticket         681\n",
       "Fare           248\n",
       "Cabin          147\n",
       "Embarked         3\n",
       "dtype: int64"
      ]
     },
     "execution_count": 5,
     "metadata": {},
     "output_type": "execute_result"
    }
   ],
   "source": [
    "train_df.nunique()"
   ]
  },
  {
   "cell_type": "markdown",
   "id": "03877f1f",
   "metadata": {
    "papermill": {
     "duration": 0.024148,
     "end_time": "2023-02-24T05:13:05.954919",
     "exception": false,
     "start_time": "2023-02-24T05:13:05.930771",
     "status": "completed"
    },
    "tags": []
   },
   "source": [
    "#### - Unique한 Data 수가 많은 Name, Age, Ticket, Fare, Cabin 에 대해 Grouping 처리가 필요하다 판단됨 \n",
    "#### - PassengerId는 Feature가 아닌 인덱스로 사용 예정 \n",
    "#### - Ticket의 경우 CountVectorizer 사용 예정"
   ]
  },
  {
   "cell_type": "code",
   "execution_count": 6,
   "id": "33165c01",
   "metadata": {
    "papermill": {
     "duration": 0.06851,
     "end_time": "2023-02-24T05:13:06.048321",
     "exception": false,
     "start_time": "2023-02-24T05:13:05.979811",
     "status": "completed"
    },
    "tags": []
   },
   "outputs": [
    {
     "data": {
      "text/html": [
       "<div>\n",
       "<style scoped>\n",
       "    .dataframe tbody tr th:only-of-type {\n",
       "        vertical-align: middle;\n",
       "    }\n",
       "\n",
       "    .dataframe tbody tr th {\n",
       "        vertical-align: top;\n",
       "    }\n",
       "\n",
       "    .dataframe thead th {\n",
       "        text-align: right;\n",
       "    }\n",
       "</style>\n",
       "<table border=\"1\" class=\"dataframe\">\n",
       "  <thead>\n",
       "    <tr style=\"text-align: right;\">\n",
       "      <th></th>\n",
       "      <th>PassengerId</th>\n",
       "      <th>Survived</th>\n",
       "      <th>Pclass</th>\n",
       "      <th>Age</th>\n",
       "      <th>SibSp</th>\n",
       "      <th>Parch</th>\n",
       "      <th>Fare</th>\n",
       "    </tr>\n",
       "  </thead>\n",
       "  <tbody>\n",
       "    <tr>\n",
       "      <th>count</th>\n",
       "      <td>891.000000</td>\n",
       "      <td>891.000000</td>\n",
       "      <td>891.000000</td>\n",
       "      <td>714.000000</td>\n",
       "      <td>891.000000</td>\n",
       "      <td>891.000000</td>\n",
       "      <td>891.000000</td>\n",
       "    </tr>\n",
       "    <tr>\n",
       "      <th>mean</th>\n",
       "      <td>446.000000</td>\n",
       "      <td>0.383838</td>\n",
       "      <td>2.308642</td>\n",
       "      <td>29.699118</td>\n",
       "      <td>0.523008</td>\n",
       "      <td>0.381594</td>\n",
       "      <td>32.204208</td>\n",
       "    </tr>\n",
       "    <tr>\n",
       "      <th>std</th>\n",
       "      <td>257.353842</td>\n",
       "      <td>0.486592</td>\n",
       "      <td>0.836071</td>\n",
       "      <td>14.526497</td>\n",
       "      <td>1.102743</td>\n",
       "      <td>0.806057</td>\n",
       "      <td>49.693429</td>\n",
       "    </tr>\n",
       "    <tr>\n",
       "      <th>min</th>\n",
       "      <td>1.000000</td>\n",
       "      <td>0.000000</td>\n",
       "      <td>1.000000</td>\n",
       "      <td>0.420000</td>\n",
       "      <td>0.000000</td>\n",
       "      <td>0.000000</td>\n",
       "      <td>0.000000</td>\n",
       "    </tr>\n",
       "    <tr>\n",
       "      <th>25%</th>\n",
       "      <td>223.500000</td>\n",
       "      <td>0.000000</td>\n",
       "      <td>2.000000</td>\n",
       "      <td>20.125000</td>\n",
       "      <td>0.000000</td>\n",
       "      <td>0.000000</td>\n",
       "      <td>7.910400</td>\n",
       "    </tr>\n",
       "    <tr>\n",
       "      <th>50%</th>\n",
       "      <td>446.000000</td>\n",
       "      <td>0.000000</td>\n",
       "      <td>3.000000</td>\n",
       "      <td>28.000000</td>\n",
       "      <td>0.000000</td>\n",
       "      <td>0.000000</td>\n",
       "      <td>14.454200</td>\n",
       "    </tr>\n",
       "    <tr>\n",
       "      <th>75%</th>\n",
       "      <td>668.500000</td>\n",
       "      <td>1.000000</td>\n",
       "      <td>3.000000</td>\n",
       "      <td>38.000000</td>\n",
       "      <td>1.000000</td>\n",
       "      <td>0.000000</td>\n",
       "      <td>31.000000</td>\n",
       "    </tr>\n",
       "    <tr>\n",
       "      <th>max</th>\n",
       "      <td>891.000000</td>\n",
       "      <td>1.000000</td>\n",
       "      <td>3.000000</td>\n",
       "      <td>80.000000</td>\n",
       "      <td>8.000000</td>\n",
       "      <td>6.000000</td>\n",
       "      <td>512.329200</td>\n",
       "    </tr>\n",
       "  </tbody>\n",
       "</table>\n",
       "</div>"
      ],
      "text/plain": [
       "       PassengerId    Survived      Pclass         Age       SibSp  \\\n",
       "count   891.000000  891.000000  891.000000  714.000000  891.000000   \n",
       "mean    446.000000    0.383838    2.308642   29.699118    0.523008   \n",
       "std     257.353842    0.486592    0.836071   14.526497    1.102743   \n",
       "min       1.000000    0.000000    1.000000    0.420000    0.000000   \n",
       "25%     223.500000    0.000000    2.000000   20.125000    0.000000   \n",
       "50%     446.000000    0.000000    3.000000   28.000000    0.000000   \n",
       "75%     668.500000    1.000000    3.000000   38.000000    1.000000   \n",
       "max     891.000000    1.000000    3.000000   80.000000    8.000000   \n",
       "\n",
       "            Parch        Fare  \n",
       "count  891.000000  891.000000  \n",
       "mean     0.381594   32.204208  \n",
       "std      0.806057   49.693429  \n",
       "min      0.000000    0.000000  \n",
       "25%      0.000000    7.910400  \n",
       "50%      0.000000   14.454200  \n",
       "75%      0.000000   31.000000  \n",
       "max      6.000000  512.329200  "
      ]
     },
     "execution_count": 6,
     "metadata": {},
     "output_type": "execute_result"
    }
   ],
   "source": [
    "train_df.describe()"
   ]
  },
  {
   "cell_type": "markdown",
   "id": "0c84a800",
   "metadata": {
    "papermill": {
     "duration": 0.023656,
     "end_time": "2023-02-24T05:13:06.096047",
     "exception": false,
     "start_time": "2023-02-24T05:13:06.072391",
     "status": "completed"
    },
    "tags": []
   },
   "source": [
    "#### Fare의 분포가 매우 넓어 Fare의 분포 형상과 Outlier의 존재 확인 필요. SibSp(형제/자매/배우자 수)와 Parch(부모/자녀 수)는 가족수로 변경 예정"
   ]
  },
  {
   "cell_type": "markdown",
   "id": "1b6abdd9",
   "metadata": {
    "papermill": {
     "duration": 0.023464,
     "end_time": "2023-02-24T05:13:06.144206",
     "exception": false,
     "start_time": "2023-02-24T05:13:06.120742",
     "status": "completed"
    },
    "tags": []
   },
   "source": [
    "## 1.2. Test Set"
   ]
  },
  {
   "cell_type": "code",
   "execution_count": 7,
   "id": "a8dafae4",
   "metadata": {
    "papermill": {
     "duration": 0.056483,
     "end_time": "2023-02-24T05:13:06.225923",
     "exception": false,
     "start_time": "2023-02-24T05:13:06.169440",
     "status": "completed"
    },
    "tags": []
   },
   "outputs": [
    {
     "data": {
      "text/html": [
       "<div>\n",
       "<style scoped>\n",
       "    .dataframe tbody tr th:only-of-type {\n",
       "        vertical-align: middle;\n",
       "    }\n",
       "\n",
       "    .dataframe tbody tr th {\n",
       "        vertical-align: top;\n",
       "    }\n",
       "\n",
       "    .dataframe thead th {\n",
       "        text-align: right;\n",
       "    }\n",
       "</style>\n",
       "<table border=\"1\" class=\"dataframe\">\n",
       "  <thead>\n",
       "    <tr style=\"text-align: right;\">\n",
       "      <th></th>\n",
       "      <th>PassengerId</th>\n",
       "      <th>Pclass</th>\n",
       "      <th>Name</th>\n",
       "      <th>Sex</th>\n",
       "      <th>Age</th>\n",
       "      <th>SibSp</th>\n",
       "      <th>Parch</th>\n",
       "      <th>Ticket</th>\n",
       "      <th>Fare</th>\n",
       "      <th>Cabin</th>\n",
       "      <th>Embarked</th>\n",
       "    </tr>\n",
       "  </thead>\n",
       "  <tbody>\n",
       "    <tr>\n",
       "      <th>0</th>\n",
       "      <td>892</td>\n",
       "      <td>3</td>\n",
       "      <td>Kelly, Mr. James</td>\n",
       "      <td>male</td>\n",
       "      <td>34.5</td>\n",
       "      <td>0</td>\n",
       "      <td>0</td>\n",
       "      <td>330911</td>\n",
       "      <td>7.8292</td>\n",
       "      <td>NaN</td>\n",
       "      <td>Q</td>\n",
       "    </tr>\n",
       "    <tr>\n",
       "      <th>1</th>\n",
       "      <td>893</td>\n",
       "      <td>3</td>\n",
       "      <td>Wilkes, Mrs. James (Ellen Needs)</td>\n",
       "      <td>female</td>\n",
       "      <td>47.0</td>\n",
       "      <td>1</td>\n",
       "      <td>0</td>\n",
       "      <td>363272</td>\n",
       "      <td>7.0000</td>\n",
       "      <td>NaN</td>\n",
       "      <td>S</td>\n",
       "    </tr>\n",
       "    <tr>\n",
       "      <th>2</th>\n",
       "      <td>894</td>\n",
       "      <td>2</td>\n",
       "      <td>Myles, Mr. Thomas Francis</td>\n",
       "      <td>male</td>\n",
       "      <td>62.0</td>\n",
       "      <td>0</td>\n",
       "      <td>0</td>\n",
       "      <td>240276</td>\n",
       "      <td>9.6875</td>\n",
       "      <td>NaN</td>\n",
       "      <td>Q</td>\n",
       "    </tr>\n",
       "    <tr>\n",
       "      <th>3</th>\n",
       "      <td>895</td>\n",
       "      <td>3</td>\n",
       "      <td>Wirz, Mr. Albert</td>\n",
       "      <td>male</td>\n",
       "      <td>27.0</td>\n",
       "      <td>0</td>\n",
       "      <td>0</td>\n",
       "      <td>315154</td>\n",
       "      <td>8.6625</td>\n",
       "      <td>NaN</td>\n",
       "      <td>S</td>\n",
       "    </tr>\n",
       "    <tr>\n",
       "      <th>4</th>\n",
       "      <td>896</td>\n",
       "      <td>3</td>\n",
       "      <td>Hirvonen, Mrs. Alexander (Helga E Lindqvist)</td>\n",
       "      <td>female</td>\n",
       "      <td>22.0</td>\n",
       "      <td>1</td>\n",
       "      <td>1</td>\n",
       "      <td>3101298</td>\n",
       "      <td>12.2875</td>\n",
       "      <td>NaN</td>\n",
       "      <td>S</td>\n",
       "    </tr>\n",
       "  </tbody>\n",
       "</table>\n",
       "</div>"
      ],
      "text/plain": [
       "   PassengerId  Pclass                                          Name     Sex  \\\n",
       "0          892       3                              Kelly, Mr. James    male   \n",
       "1          893       3              Wilkes, Mrs. James (Ellen Needs)  female   \n",
       "2          894       2                     Myles, Mr. Thomas Francis    male   \n",
       "3          895       3                              Wirz, Mr. Albert    male   \n",
       "4          896       3  Hirvonen, Mrs. Alexander (Helga E Lindqvist)  female   \n",
       "\n",
       "    Age  SibSp  Parch   Ticket     Fare Cabin Embarked  \n",
       "0  34.5      0      0   330911   7.8292   NaN        Q  \n",
       "1  47.0      1      0   363272   7.0000   NaN        S  \n",
       "2  62.0      0      0   240276   9.6875   NaN        Q  \n",
       "3  27.0      0      0   315154   8.6625   NaN        S  \n",
       "4  22.0      1      1  3101298  12.2875   NaN        S  "
      ]
     },
     "execution_count": 7,
     "metadata": {},
     "output_type": "execute_result"
    }
   ],
   "source": [
    "test_df = pd.read_csv(\"data/test.csv\")\n",
    "test_df.head()"
   ]
  },
  {
   "cell_type": "code",
   "execution_count": 8,
   "id": "fd26546c",
   "metadata": {
    "papermill": {
     "duration": 0.045208,
     "end_time": "2023-02-24T05:13:06.296980",
     "exception": false,
     "start_time": "2023-02-24T05:13:06.251772",
     "status": "completed"
    },
    "tags": []
   },
   "outputs": [
    {
     "name": "stdout",
     "output_type": "stream",
     "text": [
      "<class 'pandas.core.frame.DataFrame'>\n",
      "RangeIndex: 418 entries, 0 to 417\n",
      "Data columns (total 11 columns):\n",
      " #   Column       Non-Null Count  Dtype  \n",
      "---  ------       --------------  -----  \n",
      " 0   PassengerId  418 non-null    int64  \n",
      " 1   Pclass       418 non-null    int64  \n",
      " 2   Name         418 non-null    object \n",
      " 3   Sex          418 non-null    object \n",
      " 4   Age          332 non-null    float64\n",
      " 5   SibSp        418 non-null    int64  \n",
      " 6   Parch        418 non-null    int64  \n",
      " 7   Ticket       418 non-null    object \n",
      " 8   Fare         417 non-null    float64\n",
      " 9   Cabin        91 non-null     object \n",
      " 10  Embarked     418 non-null    object \n",
      "dtypes: float64(2), int64(4), object(5)\n",
      "memory usage: 36.0+ KB\n"
     ]
    }
   ],
   "source": [
    "test_df.info()"
   ]
  },
  {
   "cell_type": "markdown",
   "id": "2b9e699d",
   "metadata": {
    "papermill": {
     "duration": 0.024755,
     "end_time": "2023-02-24T05:13:06.347104",
     "exception": false,
     "start_time": "2023-02-24T05:13:06.322349",
     "status": "completed"
    },
    "tags": []
   },
   "source": [
    "#### Train Set과 다르게 Fare에서 하나의 결측치가 있음. 결측치 수가 1개이기 때문에 따로 결측치에 대한 Feature화는 진행하지 않음"
   ]
  },
  {
   "cell_type": "code",
   "execution_count": 9,
   "id": "bf83ddb3",
   "metadata": {
    "papermill": {
     "duration": 0.041552,
     "end_time": "2023-02-24T05:13:06.414928",
     "exception": false,
     "start_time": "2023-02-24T05:13:06.373376",
     "status": "completed"
    },
    "tags": []
   },
   "outputs": [
    {
     "data": {
      "text/plain": [
       "PassengerId    418\n",
       "Pclass           3\n",
       "Name           418\n",
       "Sex              2\n",
       "Age             79\n",
       "SibSp            7\n",
       "Parch            8\n",
       "Ticket         363\n",
       "Fare           169\n",
       "Cabin           76\n",
       "Embarked         3\n",
       "dtype: int64"
      ]
     },
     "execution_count": 9,
     "metadata": {},
     "output_type": "execute_result"
    }
   ],
   "source": [
    "test_df.nunique()"
   ]
  },
  {
   "cell_type": "markdown",
   "id": "0f82e436",
   "metadata": {
    "papermill": {
     "duration": 0.025232,
     "end_time": "2023-02-24T05:13:06.465842",
     "exception": false,
     "start_time": "2023-02-24T05:13:06.440610",
     "status": "completed"
    },
    "tags": []
   },
   "source": [
    "#### Train Set와 큰 차이 없어 보임"
   ]
  },
  {
   "cell_type": "code",
   "execution_count": 10,
   "id": "e8ad76f3",
   "metadata": {
    "papermill": {
     "duration": 0.060603,
     "end_time": "2023-02-24T05:13:06.551972",
     "exception": false,
     "start_time": "2023-02-24T05:13:06.491369",
     "status": "completed"
    },
    "tags": []
   },
   "outputs": [
    {
     "data": {
      "text/html": [
       "<div>\n",
       "<style scoped>\n",
       "    .dataframe tbody tr th:only-of-type {\n",
       "        vertical-align: middle;\n",
       "    }\n",
       "\n",
       "    .dataframe tbody tr th {\n",
       "        vertical-align: top;\n",
       "    }\n",
       "\n",
       "    .dataframe thead th {\n",
       "        text-align: right;\n",
       "    }\n",
       "</style>\n",
       "<table border=\"1\" class=\"dataframe\">\n",
       "  <thead>\n",
       "    <tr style=\"text-align: right;\">\n",
       "      <th></th>\n",
       "      <th>PassengerId</th>\n",
       "      <th>Pclass</th>\n",
       "      <th>Age</th>\n",
       "      <th>SibSp</th>\n",
       "      <th>Parch</th>\n",
       "      <th>Fare</th>\n",
       "    </tr>\n",
       "  </thead>\n",
       "  <tbody>\n",
       "    <tr>\n",
       "      <th>count</th>\n",
       "      <td>418.000000</td>\n",
       "      <td>418.000000</td>\n",
       "      <td>332.000000</td>\n",
       "      <td>418.000000</td>\n",
       "      <td>418.000000</td>\n",
       "      <td>417.000000</td>\n",
       "    </tr>\n",
       "    <tr>\n",
       "      <th>mean</th>\n",
       "      <td>1100.500000</td>\n",
       "      <td>2.265550</td>\n",
       "      <td>30.272590</td>\n",
       "      <td>0.447368</td>\n",
       "      <td>0.392344</td>\n",
       "      <td>35.627188</td>\n",
       "    </tr>\n",
       "    <tr>\n",
       "      <th>std</th>\n",
       "      <td>120.810458</td>\n",
       "      <td>0.841838</td>\n",
       "      <td>14.181209</td>\n",
       "      <td>0.896760</td>\n",
       "      <td>0.981429</td>\n",
       "      <td>55.907576</td>\n",
       "    </tr>\n",
       "    <tr>\n",
       "      <th>min</th>\n",
       "      <td>892.000000</td>\n",
       "      <td>1.000000</td>\n",
       "      <td>0.170000</td>\n",
       "      <td>0.000000</td>\n",
       "      <td>0.000000</td>\n",
       "      <td>0.000000</td>\n",
       "    </tr>\n",
       "    <tr>\n",
       "      <th>25%</th>\n",
       "      <td>996.250000</td>\n",
       "      <td>1.000000</td>\n",
       "      <td>21.000000</td>\n",
       "      <td>0.000000</td>\n",
       "      <td>0.000000</td>\n",
       "      <td>7.895800</td>\n",
       "    </tr>\n",
       "    <tr>\n",
       "      <th>50%</th>\n",
       "      <td>1100.500000</td>\n",
       "      <td>3.000000</td>\n",
       "      <td>27.000000</td>\n",
       "      <td>0.000000</td>\n",
       "      <td>0.000000</td>\n",
       "      <td>14.454200</td>\n",
       "    </tr>\n",
       "    <tr>\n",
       "      <th>75%</th>\n",
       "      <td>1204.750000</td>\n",
       "      <td>3.000000</td>\n",
       "      <td>39.000000</td>\n",
       "      <td>1.000000</td>\n",
       "      <td>0.000000</td>\n",
       "      <td>31.500000</td>\n",
       "    </tr>\n",
       "    <tr>\n",
       "      <th>max</th>\n",
       "      <td>1309.000000</td>\n",
       "      <td>3.000000</td>\n",
       "      <td>76.000000</td>\n",
       "      <td>8.000000</td>\n",
       "      <td>9.000000</td>\n",
       "      <td>512.329200</td>\n",
       "    </tr>\n",
       "  </tbody>\n",
       "</table>\n",
       "</div>"
      ],
      "text/plain": [
       "       PassengerId      Pclass         Age       SibSp       Parch        Fare\n",
       "count   418.000000  418.000000  332.000000  418.000000  418.000000  417.000000\n",
       "mean   1100.500000    2.265550   30.272590    0.447368    0.392344   35.627188\n",
       "std     120.810458    0.841838   14.181209    0.896760    0.981429   55.907576\n",
       "min     892.000000    1.000000    0.170000    0.000000    0.000000    0.000000\n",
       "25%     996.250000    1.000000   21.000000    0.000000    0.000000    7.895800\n",
       "50%    1100.500000    3.000000   27.000000    0.000000    0.000000   14.454200\n",
       "75%    1204.750000    3.000000   39.000000    1.000000    0.000000   31.500000\n",
       "max    1309.000000    3.000000   76.000000    8.000000    9.000000  512.329200"
      ]
     },
     "execution_count": 10,
     "metadata": {},
     "output_type": "execute_result"
    }
   ],
   "source": [
    "test_df.describe()"
   ]
  },
  {
   "cell_type": "markdown",
   "id": "504a3dec",
   "metadata": {
    "papermill": {
     "duration": 0.025187,
     "end_time": "2023-02-24T05:13:06.602291",
     "exception": false,
     "start_time": "2023-02-24T05:13:06.577104",
     "status": "completed"
    },
    "tags": []
   },
   "source": [
    "#### Train Set와 큰 차이 없어 보임"
   ]
  },
  {
   "cell_type": "markdown",
   "id": "9176df6b",
   "metadata": {
    "papermill": {
     "duration": 0.024624,
     "end_time": "2023-02-24T05:13:06.651441",
     "exception": false,
     "start_time": "2023-02-24T05:13:06.626817",
     "status": "completed"
    },
    "tags": []
   },
   "source": [
    "# 2. EDA"
   ]
  },
  {
   "cell_type": "code",
   "execution_count": 11,
   "id": "d7511ce3",
   "metadata": {
    "papermill": {
     "duration": 0.037613,
     "end_time": "2023-02-24T05:13:06.713715",
     "exception": false,
     "start_time": "2023-02-24T05:13:06.676102",
     "status": "completed"
    },
    "tags": []
   },
   "outputs": [
    {
     "data": {
      "text/plain": [
       "Index(['PassengerId', 'Survived', 'Pclass', 'Name', 'Sex', 'Age', 'SibSp',\n",
       "       'Parch', 'Ticket', 'Fare', 'Cabin', 'Embarked'],\n",
       "      dtype='object')"
      ]
     },
     "execution_count": 11,
     "metadata": {},
     "output_type": "execute_result"
    }
   ],
   "source": [
    "train_df.columns"
   ]
  },
  {
   "cell_type": "markdown",
   "id": "8faf7dc2",
   "metadata": {
    "papermill": {
     "duration": 0.025619,
     "end_time": "2023-02-24T05:13:06.765372",
     "exception": false,
     "start_time": "2023-02-24T05:13:06.739753",
     "status": "completed"
    },
    "tags": []
   },
   "source": [
    "## 2.1. Survived (생존자/희생자 수 비교)"
   ]
  },
  {
   "cell_type": "code",
   "execution_count": 12,
   "id": "2ca3257d",
   "metadata": {
    "papermill": {
     "duration": 0.040684,
     "end_time": "2023-02-24T05:13:06.832885",
     "exception": false,
     "start_time": "2023-02-24T05:13:06.792201",
     "status": "completed"
    },
    "tags": []
   },
   "outputs": [
    {
     "data": {
      "text/plain": [
       "0    549\n",
       "1    342\n",
       "Name: Survived, dtype: int64"
      ]
     },
     "execution_count": 12,
     "metadata": {},
     "output_type": "execute_result"
    }
   ],
   "source": [
    "train_df[\"Survived\"].value_counts()"
   ]
  },
  {
   "cell_type": "code",
   "execution_count": 13,
   "id": "f0fc57ec",
   "metadata": {
    "papermill": {
     "duration": 0.044434,
     "end_time": "2023-02-24T05:13:06.903895",
     "exception": false,
     "start_time": "2023-02-24T05:13:06.859461",
     "status": "completed"
    },
    "tags": []
   },
   "outputs": [],
   "source": [
    "# 생존자와 희생자 간 Feature 분포 확인을 위해 별도 dataframe 준비\n",
    "train_survived = train_df.query(\"Survived == 1\")\n",
    "train_perished = train_df.query(\"Survived == 0\")"
   ]
  },
  {
   "cell_type": "markdown",
   "id": "bcbc4e43",
   "metadata": {
    "papermill": {
     "duration": 0.024967,
     "end_time": "2023-02-24T05:13:06.954451",
     "exception": false,
     "start_time": "2023-02-24T05:13:06.929484",
     "status": "completed"
    },
    "tags": []
   },
   "source": [
    "## 2.2. 생존자/희생자 대상 각 Feature별 분포 비교"
   ]
  },
  {
   "cell_type": "markdown",
   "id": "cfa700f3",
   "metadata": {
    "papermill": {
     "duration": 0.025846,
     "end_time": "2023-02-24T05:13:07.006202",
     "exception": false,
     "start_time": "2023-02-24T05:13:06.980356",
     "status": "completed"
    },
    "tags": []
   },
   "source": [
    "#### Unique한 값이 적고 결측치가 없거나 적은 Feature에 대해 분포도 확인"
   ]
  },
  {
   "cell_type": "code",
   "execution_count": 14,
   "id": "8e5e96c6",
   "metadata": {
    "papermill": {
     "duration": 0.034155,
     "end_time": "2023-02-24T05:13:07.065587",
     "exception": false,
     "start_time": "2023-02-24T05:13:07.031432",
     "status": "completed"
    },
    "tags": []
   },
   "outputs": [],
   "source": [
    "features = ['Pclass', 'Sex', 'Age', 'SibSp', 'Parch', 'Embarked']"
   ]
  },
  {
   "cell_type": "code",
   "execution_count": 15,
   "id": "59008df4",
   "metadata": {
    "papermill": {
     "duration": 1.54825,
     "end_time": "2023-02-24T05:13:08.638970",
     "exception": false,
     "start_time": "2023-02-24T05:13:07.090720",
     "status": "completed"
    },
    "tags": []
   },
   "outputs": [
    {
     "data": {
      "image/png": "[encoded data removed]",
      "text/plain": [
       "<Figure size 1200x800 with 6 Axes>"
      ]
     },
     "metadata": {},
     "output_type": "display_data"
    }
   ],
   "source": [
    "fig, axs = plt.subplots(figsize=(12, 8), nrows=2, ncols=3)\n",
    "r = 0\n",
    "c = 0\n",
    "for feat in features:\n",
    "    if feat == \"Embarked\":\n",
    "        axs[r, c].hist([train_survived[f\"{feat}\"].astype('str'), train_perished[f\"{feat}\"].astype('str')], stacked=True)\n",
    "        axs[r, c].legend([\"Survived\", \"Perished\"])\n",
    "        axs[r, c].set_title(f\"{feat}\")\n",
    "    else:\n",
    "        axs[r, c].hist([train_survived[f\"{feat}\"], train_perished[f\"{feat}\"]], stacked=True)\n",
    "        axs[r, c].legend([\"Survived\", \"Perished\"])\n",
    "        axs[r, c].set_title(f\"{feat}\")\n",
    "    if c < 2:\n",
    "        c += 1\n",
    "    else:\n",
    "        r += 1\n",
    "        c = 0\n",
    "plt.tight_layout()\n",
    "plt.show();"
   ]
  },
  {
   "cell_type": "markdown",
   "id": "e70e3841",
   "metadata": {
    "papermill": {
     "duration": 0.02554,
     "end_time": "2023-02-24T05:13:08.690662",
     "exception": false,
     "start_time": "2023-02-24T05:13:08.665122",
     "status": "completed"
    },
    "tags": []
   },
   "source": [
    "#### - Pclass: 3등석에서 희생자가 많음\n",
    "#### - Sex: 여성의 생존율이 높음\n",
    "#### - Age: 아이들의 생존율이 높음\n",
    "#### - SibSp/Parch: 가족 구성원의 수가 많을 수록 생존율이 높음\n",
    "#### - Embarked: S의 경우 생존율이 낮음"
   ]
  },
  {
   "cell_type": "markdown",
   "id": "0bdfb8ec",
   "metadata": {
    "papermill": {
     "duration": 0.025372,
     "end_time": "2023-02-24T05:13:08.742009",
     "exception": false,
     "start_time": "2023-02-24T05:13:08.716637",
     "status": "completed"
    },
    "tags": []
   },
   "source": [
    "## 2.3. Fare에 대한 분포 확인"
   ]
  },
  {
   "cell_type": "code",
   "execution_count": 16,
   "id": "976e741f",
   "metadata": {
    "papermill": {
     "duration": 0.664973,
     "end_time": "2023-02-24T05:13:09.433064",
     "exception": false,
     "start_time": "2023-02-24T05:13:08.768091",
     "status": "completed"
    },
    "tags": []
   },
   "outputs": [
    {
     "data": {
      "image/png": "[encoded data removed]",
      "text/plain": [
       "<Figure size 640x480 with 1 Axes>"
      ]
     },
     "metadata": {},
     "output_type": "display_data"
    }
   ],
   "source": [
    "plt.figure()\n",
    "plt.hist([train_survived[\"Fare\"], train_perished[\"Fare\"]], bins=100, stacked=True)\n",
    "plt.legend([\"Survived\", \"Perished\"])\n",
    "plt.show();"
   ]
  },
  {
   "cell_type": "code",
   "execution_count": 17,
   "id": "af950b2d",
   "metadata": {
    "papermill": {
     "duration": 0.039621,
     "end_time": "2023-02-24T05:13:09.499214",
     "exception": false,
     "start_time": "2023-02-24T05:13:09.459593",
     "status": "completed"
    },
    "tags": []
   },
   "outputs": [],
   "source": [
    "# 로그 취함 (log(0) 방지를 위해 0.1을 더함)\n",
    "\n",
    "log_train_survived = train_survived[\"Fare\"] + 0.1\n",
    "log_train_survived = log_train_survived.apply(np.log)\n",
    "\n",
    "log_train_perished = train_perished[\"Fare\"] + 0.1\n",
    "log_train_perished = log_train_perished.apply(np.log)"
   ]
  },
  {
   "cell_type": "code",
   "execution_count": 18,
   "id": "a677afa9",
   "metadata": {
    "papermill": {
     "duration": 0.658575,
     "end_time": "2023-02-24T05:13:10.183877",
     "exception": false,
     "start_time": "2023-02-24T05:13:09.525302",
     "status": "completed"
    },
    "tags": []
   },
   "outputs": [
    {
     "data": {
      "image/png": "[encoded data removed]",
      "text/plain": [
       "<Figure size 640x480 with 1 Axes>"
      ]
     },
     "metadata": {},
     "output_type": "display_data"
    }
   ],
   "source": [
    "plt.figure()\n",
    "plt.hist([log_train_survived, log_train_perished], bins=100, stacked=True)\n",
    "plt.legend([\"Survived\", \"Perished\"])\n",
    "plt.show();"
   ]
  },
  {
   "cell_type": "markdown",
   "id": "8a59772e",
   "metadata": {
    "papermill": {
     "duration": 0.026028,
     "end_time": "2023-02-24T05:13:10.236552",
     "exception": false,
     "start_time": "2023-02-24T05:13:10.210524",
     "status": "completed"
    },
    "tags": []
   },
   "source": [
    "#### 로그화에 따른 큰 장점이 없어 보임"
   ]
  },
  {
   "cell_type": "markdown",
   "id": "2d5f4fc8",
   "metadata": {
    "papermill": {
     "duration": 0.027256,
     "end_time": "2023-02-24T05:13:10.292020",
     "exception": false,
     "start_time": "2023-02-24T05:13:10.264764",
     "status": "completed"
    },
    "tags": []
   },
   "source": [
    "# 3. Data Preprocessing"
   ]
  },
  {
   "cell_type": "markdown",
   "id": "2fcc2301",
   "metadata": {
    "papermill": {
     "duration": 0.027322,
     "end_time": "2023-02-24T05:13:10.346115",
     "exception": false,
     "start_time": "2023-02-24T05:13:10.318793",
     "status": "completed"
    },
    "tags": []
   },
   "source": [
    "## 3.1. Data Wrangling"
   ]
  },
  {
   "cell_type": "code",
   "execution_count": 19,
   "id": "fffeb1dd",
   "metadata": {
    "papermill": {
     "duration": 0.037772,
     "end_time": "2023-02-24T05:13:10.411391",
     "exception": false,
     "start_time": "2023-02-24T05:13:10.373619",
     "status": "completed"
    },
    "tags": []
   },
   "outputs": [],
   "source": [
    "def get_title(name):\n",
    "    title_search = re.search(' ([A-Za-z]+)\\.', name)\n",
    "    # If the title exists, extract and return it.\n",
    "    if title_search:\n",
    "        return title_search.group(1)\n",
    "    return \"\""
   ]
  },
  {
   "cell_type": "code",
   "execution_count": 20,
   "id": "89eab845",
   "metadata": {
    "papermill": {
     "duration": 0.050264,
     "end_time": "2023-02-24T05:13:10.489122",
     "exception": false,
     "start_time": "2023-02-24T05:13:10.438858",
     "status": "completed"
    },
    "tags": []
   },
   "outputs": [],
   "source": [
    "def preprocess_titanic_data(df: pd.DataFrame):\n",
    "    \"\"\"\n",
    "    Preprocess dataframe including data wrangling and feature engineering\n",
    "    \n",
    "    Parameters\n",
    "    ----------\n",
    "    df :\n",
    "        pandas DataFrame\n",
    "\n",
    "    Returns\n",
    "    ----------\n",
    "        preprocessed pandas DataFrame \n",
    "    \"\"\"\n",
    "    # 0. \"PassengerId\" Index로 변경\n",
    "    df.set_index(\"PassengerId\", inplace=True)\n",
    "    \n",
    "    # 1. Ticket Class를 Ordinal 변수로 변경\n",
    "    df.loc[df['Pclass'] == 1, 'Pclass'] = \"1st\"\n",
    "    df.loc[df['Pclass'] == 2, 'Pclass'] = \"2nd\"\n",
    "    df.loc[df['Pclass'] == 3, 'Pclass'] = \"3rd\"\n",
    "    \n",
    "    # 2. 결측치 처리\n",
    "    # 2.1. 결측치 유/무 여부를 Feature로 적용\n",
    "    df['missing_Age'] = df['Age'].isna()    \n",
    "    df['missing_Cabin'] = df['Cabin'].isna()\n",
    "    df['missing_Embarked'] = df['Embarked'].isna()\n",
    "    # 2.2. 결측치 처리 \n",
    "    df.loc[df['Age'].isna(), 'Age'] = np.mean(df['Age'])   # 평균 나이 사용\n",
    "    df.loc[df['Cabin'].isna(), 'Cabin'] = \"missing\"   # \"missing\"으로 표시\n",
    "    df.loc[df['Fare'].isna(), 'Fare'] = mode(df['Fare'])   # 가장 많은 Fare값을 사용\n",
    "    df.loc[df['Embarked'].isna(), 'Embarked'] = mode(df['Embarked'])   # 가장 많은 Embarked값을 사용\n",
    "    \n",
    "    # 3. \"Cabin\"열 분류\n",
    "    df['Cabin'] = df['Cabin'].str.replace(\"^A{1}.*\", \"A\", regex=True)\n",
    "    df['Cabin'] = df['Cabin'].str.replace(\"^B{1}.*\", \"B\", regex=True)\n",
    "    df['Cabin'] = df['Cabin'].str.replace(\"^C{1}.*\", \"C\", regex=True)\n",
    "    df['Cabin'] = df['Cabin'].str.replace(\"^D{1}.*\", \"D\", regex=True)\n",
    "    df['Cabin'] = df['Cabin'].str.replace(\"^E{1}.*\", \"E\", regex=True)\n",
    "    df['Cabin'] = df['Cabin'].str.replace(\"^F{1}.*\", \"F\", regex=True)\n",
    "    df['Cabin'] = df['Cabin'].str.replace(\"^G{1}.*\", \"G\", regex=True)\n",
    "    \n",
    "    # 4. 가족 수 Feature화\n",
    "    df[\"n_Family\"] = df[\"SibSp\"] + df[\"Parch\"] + 1\n",
    "    \n",
    "    # 5. \"Age\" 분류하여 4개로 Grouping\n",
    "    df['Age_bin'] = pd.cut(\n",
    "        df['Age'], \n",
    "        bins=[0,12,20,40,120], \n",
    "        labels=['Children','Teenage','Adult','Elder']\n",
    "    )\n",
    "\n",
    "    # 6. \"Fare\" 분류하여 6개로 Grouping\n",
    "    df['Fare_bin'] = pd.cut(\n",
    "        df['Fare'], \n",
    "        bins=[0, 0.1, 7.91, 14.45, 31, 120, 600], \n",
    "        labels=['Free', 'Low_fare','median_fare', 'Average_fare','high_fare', 'super_high_fare'],\n",
    "        include_lowest=True\n",
    "    )\n",
    "\n",
    "    # Title Feature화\n",
    "    df['Title'] = df['Name'].apply(get_title)\n",
    "\n",
    "    # Title Feature를 3개로 Grouping\n",
    "    df['Title'] = df['Title'].replace(\n",
    "        ['Lady', 'Countess','Capt', 'Col','Don', 'Dr', 'Major', 'Rev', 'Sir', 'Jonkheer', 'Dona'], \n",
    "        'Rare',\n",
    "        regex=True\n",
    "    )\n",
    "    df['Title'] = df['Title'].replace('Mlle', 'Miss', regex=True)\n",
    "    df['Title'] = df['Title'].replace('Ms', 'Miss', regex=True)\n",
    "    df['Title'] = df['Title'].replace('Mme', 'Mrs', regex=True)\n",
    "    \n",
    "    return df\n",
    "    "
   ]
  },
  {
   "cell_type": "code",
   "execution_count": 21,
   "id": "bb410b60",
   "metadata": {
    "papermill": {
     "duration": 0.104072,
     "end_time": "2023-02-24T05:13:10.621074",
     "exception": false,
     "start_time": "2023-02-24T05:13:10.517002",
     "status": "completed"
    },
    "tags": []
   },
   "outputs": [
    {
     "data": {
      "text/html": [
       "<div>\n",
       "<style scoped>\n",
       "    .dataframe tbody tr th:only-of-type {\n",
       "        vertical-align: middle;\n",
       "    }\n",
       "\n",
       "    .dataframe tbody tr th {\n",
       "        vertical-align: top;\n",
       "    }\n",
       "\n",
       "    .dataframe thead th {\n",
       "        text-align: right;\n",
       "    }\n",
       "</style>\n",
       "<table border=\"1\" class=\"dataframe\">\n",
       "  <thead>\n",
       "    <tr style=\"text-align: right;\">\n",
       "      <th></th>\n",
       "      <th>Survived</th>\n",
       "      <th>Pclass</th>\n",
       "      <th>Name</th>\n",
       "      <th>Sex</th>\n",
       "      <th>Age</th>\n",
       "      <th>SibSp</th>\n",
       "      <th>Parch</th>\n",
       "      <th>Ticket</th>\n",
       "      <th>Fare</th>\n",
       "      <th>Cabin</th>\n",
       "      <th>Embarked</th>\n",
       "      <th>missing_Age</th>\n",
       "      <th>missing_Cabin</th>\n",
       "      <th>missing_Embarked</th>\n",
       "      <th>n_Family</th>\n",
       "      <th>Age_bin</th>\n",
       "      <th>Fare_bin</th>\n",
       "      <th>Title</th>\n",
       "    </tr>\n",
       "    <tr>\n",
       "      <th>PassengerId</th>\n",
       "      <th></th>\n",
       "      <th></th>\n",
       "      <th></th>\n",
       "      <th></th>\n",
       "      <th></th>\n",
       "      <th></th>\n",
       "      <th></th>\n",
       "      <th></th>\n",
       "      <th></th>\n",
       "      <th></th>\n",
       "      <th></th>\n",
       "      <th></th>\n",
       "      <th></th>\n",
       "      <th></th>\n",
       "      <th></th>\n",
       "      <th></th>\n",
       "      <th></th>\n",
       "      <th></th>\n",
       "    </tr>\n",
       "  </thead>\n",
       "  <tbody>\n",
       "    <tr>\n",
       "      <th>173</th>\n",
       "      <td>1</td>\n",
       "      <td>3rd</td>\n",
       "      <td>Johnson, Miss. Eleanor Ileen</td>\n",
       "      <td>female</td>\n",
       "      <td>1.000000</td>\n",
       "      <td>1</td>\n",
       "      <td>1</td>\n",
       "      <td>347742</td>\n",
       "      <td>11.1333</td>\n",
       "      <td>missing</td>\n",
       "      <td>S</td>\n",
       "      <td>False</td>\n",
       "      <td>True</td>\n",
       "      <td>False</td>\n",
       "      <td>3</td>\n",
       "      <td>Children</td>\n",
       "      <td>median_fare</td>\n",
       "      <td>Miss</td>\n",
       "    </tr>\n",
       "    <tr>\n",
       "      <th>525</th>\n",
       "      <td>0</td>\n",
       "      <td>3rd</td>\n",
       "      <td>Kassem, Mr. Fared</td>\n",
       "      <td>male</td>\n",
       "      <td>29.699118</td>\n",
       "      <td>0</td>\n",
       "      <td>0</td>\n",
       "      <td>2700</td>\n",
       "      <td>7.2292</td>\n",
       "      <td>missing</td>\n",
       "      <td>C</td>\n",
       "      <td>True</td>\n",
       "      <td>True</td>\n",
       "      <td>False</td>\n",
       "      <td>1</td>\n",
       "      <td>Adult</td>\n",
       "      <td>Low_fare</td>\n",
       "      <td>Mr</td>\n",
       "    </tr>\n",
       "    <tr>\n",
       "      <th>453</th>\n",
       "      <td>0</td>\n",
       "      <td>1st</td>\n",
       "      <td>Foreman, Mr. Benjamin Laventall</td>\n",
       "      <td>male</td>\n",
       "      <td>30.000000</td>\n",
       "      <td>0</td>\n",
       "      <td>0</td>\n",
       "      <td>113051</td>\n",
       "      <td>27.7500</td>\n",
       "      <td>C</td>\n",
       "      <td>C</td>\n",
       "      <td>False</td>\n",
       "      <td>False</td>\n",
       "      <td>False</td>\n",
       "      <td>1</td>\n",
       "      <td>Adult</td>\n",
       "      <td>Average_fare</td>\n",
       "      <td>Mr</td>\n",
       "    </tr>\n",
       "    <tr>\n",
       "      <th>171</th>\n",
       "      <td>0</td>\n",
       "      <td>1st</td>\n",
       "      <td>Van der hoef, Mr. Wyckoff</td>\n",
       "      <td>male</td>\n",
       "      <td>61.000000</td>\n",
       "      <td>0</td>\n",
       "      <td>0</td>\n",
       "      <td>111240</td>\n",
       "      <td>33.5000</td>\n",
       "      <td>B</td>\n",
       "      <td>S</td>\n",
       "      <td>False</td>\n",
       "      <td>False</td>\n",
       "      <td>False</td>\n",
       "      <td>1</td>\n",
       "      <td>Elder</td>\n",
       "      <td>high_fare</td>\n",
       "      <td>Mr</td>\n",
       "    </tr>\n",
       "    <tr>\n",
       "      <th>621</th>\n",
       "      <td>0</td>\n",
       "      <td>3rd</td>\n",
       "      <td>Yasbeck, Mr. Antoni</td>\n",
       "      <td>male</td>\n",
       "      <td>27.000000</td>\n",
       "      <td>1</td>\n",
       "      <td>0</td>\n",
       "      <td>2659</td>\n",
       "      <td>14.4542</td>\n",
       "      <td>missing</td>\n",
       "      <td>C</td>\n",
       "      <td>False</td>\n",
       "      <td>True</td>\n",
       "      <td>False</td>\n",
       "      <td>2</td>\n",
       "      <td>Adult</td>\n",
       "      <td>Average_fare</td>\n",
       "      <td>Mr</td>\n",
       "    </tr>\n",
       "  </tbody>\n",
       "</table>\n",
       "</div>"
      ],
      "text/plain": [
       "             Survived Pclass                             Name     Sex  \\\n",
       "PassengerId                                                             \n",
       "173                 1    3rd     Johnson, Miss. Eleanor Ileen  female   \n",
       "525                 0    3rd                Kassem, Mr. Fared    male   \n",
       "453                 0    1st  Foreman, Mr. Benjamin Laventall    male   \n",
       "171                 0    1st        Van der hoef, Mr. Wyckoff    male   \n",
       "621                 0    3rd              Yasbeck, Mr. Antoni    male   \n",
       "\n",
       "                   Age  SibSp  Parch  Ticket     Fare    Cabin Embarked  \\\n",
       "PassengerId                                                               \n",
       "173           1.000000      1      1  347742  11.1333  missing        S   \n",
       "525          29.699118      0      0    2700   7.2292  missing        C   \n",
       "453          30.000000      0      0  113051  27.7500        C        C   \n",
       "171          61.000000      0      0  111240  33.5000        B        S   \n",
       "621          27.000000      1      0    2659  14.4542  missing        C   \n",
       "\n",
       "             missing_Age  missing_Cabin  missing_Embarked  n_Family   Age_bin  \\\n",
       "PassengerId                                                                     \n",
       "173                False           True             False         3  Children   \n",
       "525                 True           True             False         1     Adult   \n",
       "453                False          False             False         1     Adult   \n",
       "171                False          False             False         1     Elder   \n",
       "621                False           True             False         2     Adult   \n",
       "\n",
       "                 Fare_bin Title  \n",
       "PassengerId                      \n",
       "173           median_fare  Miss  \n",
       "525              Low_fare    Mr  \n",
       "453          Average_fare    Mr  \n",
       "171             high_fare    Mr  \n",
       "621          Average_fare    Mr  "
      ]
     },
     "execution_count": 21,
     "metadata": {},
     "output_type": "execute_result"
    }
   ],
   "source": [
    "train_df = preprocess_titanic_data(train_df)\n",
    "train_df.head()"
   ]
  },
  {
   "cell_type": "markdown",
   "id": "d1c3743c",
   "metadata": {
    "papermill": {
     "duration": 0.027274,
     "end_time": "2023-02-24T05:13:10.675881",
     "exception": false,
     "start_time": "2023-02-24T05:13:10.648607",
     "status": "completed"
    },
    "tags": []
   },
   "source": [
    "## 3.2. EDA on Engineered Features"
   ]
  },
  {
   "cell_type": "code",
   "execution_count": 22,
   "id": "f7cc07c9",
   "metadata": {
    "papermill": {
     "duration": 0.047961,
     "end_time": "2023-02-24T05:13:10.751381",
     "exception": false,
     "start_time": "2023-02-24T05:13:10.703420",
     "status": "completed"
    },
    "tags": []
   },
   "outputs": [],
   "source": [
    "# 생존자와 희생자 간 Feature 분포 확인을 위해 별도 dataframe 준비\n",
    "train_survived = train_df.query(\"Survived == 1\")\n",
    "train_perished = train_df.query(\"Survived == 0\")"
   ]
  },
  {
   "cell_type": "code",
   "execution_count": 23,
   "id": "ba3dccca",
   "metadata": {
    "papermill": {
     "duration": 0.040847,
     "end_time": "2023-02-24T05:13:10.820709",
     "exception": false,
     "start_time": "2023-02-24T05:13:10.779862",
     "status": "completed"
    },
    "tags": []
   },
   "outputs": [
    {
     "data": {
      "text/plain": [
       "Index(['Survived', 'Pclass', 'Name', 'Sex', 'Age', 'SibSp', 'Parch', 'Ticket',\n",
       "       'Fare', 'Cabin', 'Embarked', 'missing_Age', 'missing_Cabin',\n",
       "       'missing_Embarked', 'n_Family', 'Age_bin', 'Fare_bin', 'Title'],\n",
       "      dtype='object')"
      ]
     },
     "execution_count": 23,
     "metadata": {},
     "output_type": "execute_result"
    }
   ],
   "source": [
    "train_df.columns"
   ]
  },
  {
   "cell_type": "code",
   "execution_count": 24,
   "id": "31d1172f",
   "metadata": {
    "papermill": {
     "duration": 0.03672,
     "end_time": "2023-02-24T05:13:10.884608",
     "exception": false,
     "start_time": "2023-02-24T05:13:10.847888",
     "status": "completed"
    },
    "tags": []
   },
   "outputs": [],
   "source": [
    "engineered_features = [\n",
    "    \"Pclass\", \"Cabin\", \"missing_Age\", \"missing_Cabin\", \"missing_Embarked\",\n",
    "    \"n_Family\", \"Age_bin\", \"Fare_bin\", \"Title\"\n",
    "]"
   ]
  },
  {
   "cell_type": "code",
   "execution_count": 25,
   "id": "d4947220",
   "metadata": {
    "papermill": {
     "duration": 1.913488,
     "end_time": "2023-02-24T05:13:12.825999",
     "exception": false,
     "start_time": "2023-02-24T05:13:10.912511",
     "status": "completed"
    },
    "tags": []
   },
   "outputs": [
    {
     "name": "stderr",
     "output_type": "stream",
     "text": [
      "<__array_function__ internals>:180: RuntimeWarning: Converting input from bool to <class 'numpy.uint8'> for compatibility.\n"
     ]
    },
    {
     "data": {
      "image/png": "[encoded data removed]",
      "text/plain": [
       "<Figure size 1200x1200 with 9 Axes>"
      ]
     },
     "metadata": {},
     "output_type": "display_data"
    }
   ],
   "source": [
    "fig, axs = plt.subplots(figsize=(12, 12), nrows=3, ncols=3)\n",
    "r = 0\n",
    "c = 0\n",
    "for feat in engineered_features:\n",
    "    axs[r, c].hist([train_survived[f\"{feat}\"], train_perished[f\"{feat}\"]], stacked=True)\n",
    "    axs[r, c].legend([\"Survived\", \"Perished\"])\n",
    "    axs[r, c].set_title(f\"{feat}\")\n",
    "    if c < 2:\n",
    "        c += 1\n",
    "    else:\n",
    "        r += 1\n",
    "        c = 0\n",
    "plt.tight_layout()\n",
    "plt.show();"
   ]
  },
  {
   "cell_type": "markdown",
   "id": "8e3ef6df",
   "metadata": {
    "papermill": {
     "duration": 0.029473,
     "end_time": "2023-02-24T05:13:12.885649",
     "exception": false,
     "start_time": "2023-02-24T05:13:12.856176",
     "status": "completed"
    },
    "tags": []
   },
   "source": [
    "#### - Pclass: 등급이 낮아질 수록 생존율 낮아짐\n",
    "#### - Cabin, missing_Cabin: Cabin 정보가 없을 경우 생존율 낮아짐, missing_Cabin과 Cabin간 교호작용이 있어 missing_Cabin은 Feature에서 제외\n",
    "#### - missing_Age: Age 정보가 없을 경우 생존율 낮아짐\n",
    "#### - missing_Embark: Embark가 없는 경우가 너무 적어 비교 어려움\n",
    "#### - n_Family: 가족 수가 너무 적거나 너무 많을 경우 생존율 낮아짐\n",
    "#### - Age_bin: Children의 생존율이 높음\n",
    "#### - Fare_bin: \"Free\"의 생존율이 매우 낮음, \"super_high_fare\"의 생존율이 매우 높음\n",
    "#### - Title: \"Mr\"의 생존율이 낮음"
   ]
  },
  {
   "cell_type": "markdown",
   "id": "6c85b1af",
   "metadata": {
    "papermill": {
     "duration": 0.029298,
     "end_time": "2023-02-24T05:13:12.944848",
     "exception": false,
     "start_time": "2023-02-24T05:13:12.915550",
     "status": "completed"
    },
    "tags": []
   },
   "source": [
    "# 4. Machine Learning"
   ]
  },
  {
   "cell_type": "markdown",
   "id": "572e8253",
   "metadata": {
    "papermill": {
     "duration": 0.029606,
     "end_time": "2023-02-24T05:13:13.004402",
     "exception": false,
     "start_time": "2023-02-24T05:13:12.974796",
     "status": "completed"
    },
    "tags": []
   },
   "source": [
    "## 4.1. Preprocessing"
   ]
  },
  {
   "cell_type": "code",
   "execution_count": 26,
   "id": "05c39251",
   "metadata": {
    "papermill": {
     "duration": 0.041673,
     "end_time": "2023-02-24T05:13:13.075956",
     "exception": false,
     "start_time": "2023-02-24T05:13:13.034283",
     "status": "completed"
    },
    "tags": []
   },
   "outputs": [],
   "source": [
    "X_train, y_train = train_df.drop(columns=['Survived']), train_df['Survived']"
   ]
  },
  {
   "cell_type": "code",
   "execution_count": 27,
   "id": "451c1017",
   "metadata": {
    "papermill": {
     "duration": 0.0409,
     "end_time": "2023-02-24T05:13:13.147526",
     "exception": false,
     "start_time": "2023-02-24T05:13:13.106626",
     "status": "completed"
    },
    "tags": []
   },
   "outputs": [],
   "source": [
    "numeric_features = [\"n_Family\"]\n",
    "binary_features = [\"Sex\", \"missing_Age\"]\n",
    "ordinal_features = [\"Pclass\"]\n",
    "ordering_ordinal = [\n",
    "    [\"3rd\", \"2nd\", \"1st\"]\n",
    "]\n",
    "ticket_features = \"Ticket\"\n",
    "categorical_features = [\"Cabin\", \"Embarked\", \"Age_bin\", \"Fare_bin\", \"Title\"]\n",
    "drop_features = [\"Name\", \"SibSp\", \"Parch\", \"Age\", \"Fare\", \"missing_Embarked\", \"missing_Cabin\"]"
   ]
  },
  {
   "cell_type": "code",
   "execution_count": 28,
   "id": "f425f46c",
   "metadata": {
    "papermill": {
     "duration": 0.041829,
     "end_time": "2023-02-24T05:13:13.221665",
     "exception": false,
     "start_time": "2023-02-24T05:13:13.179836",
     "status": "completed"
    },
    "tags": []
   },
   "outputs": [],
   "source": [
    "ct = make_column_transformer(\n",
    "    (\n",
    "        StandardScaler(),\n",
    "        numeric_features\n",
    "    ),\n",
    "    (\n",
    "        OneHotEncoder(drop=\"if_binary\", dtype=int, sparse_output=False, handle_unknown=\"ignore\"), \n",
    "        binary_features\n",
    "    ),\n",
    "    (\n",
    "        OrdinalEncoder(categories=ordering_ordinal),\n",
    "        ordinal_features\n",
    "    ),\n",
    "    (\n",
    "        CountVectorizer(ngram_range=(1, 3)),\n",
    "        ticket_features\n",
    "    ),\n",
    "    (\n",
    "        OneHotEncoder(handle_unknown=\"ignore\"), \n",
    "        categorical_features\n",
    "    ),\n",
    "    (\"drop\", drop_features)\n",
    ")"
   ]
  },
  {
   "cell_type": "markdown",
   "id": "d069764c",
   "metadata": {
    "papermill": {
     "duration": 0.030588,
     "end_time": "2023-02-24T05:13:13.282055",
     "exception": false,
     "start_time": "2023-02-24T05:13:13.251467",
     "status": "completed"
    },
    "tags": []
   },
   "source": [
    "## 4.2. Cross-Validation"
   ]
  },
  {
   "cell_type": "code",
   "execution_count": 29,
   "id": "2396a434",
   "metadata": {
    "papermill": {
     "duration": 0.038791,
     "end_time": "2023-02-24T05:13:13.351390",
     "exception": false,
     "start_time": "2023-02-24T05:13:13.312599",
     "status": "completed"
    },
    "tags": []
   },
   "outputs": [],
   "source": [
    "results = {}"
   ]
  },
  {
   "cell_type": "code",
   "execution_count": 30,
   "id": "0a397eb9",
   "metadata": {
    "papermill": {
     "duration": 0.046416,
     "end_time": "2023-02-24T05:13:13.427641",
     "exception": false,
     "start_time": "2023-02-24T05:13:13.381225",
     "status": "completed"
    },
    "tags": []
   },
   "outputs": [],
   "source": [
    "pipe_dummy = make_pipeline(ct, DummyClassifier())\n",
    "pipe_lr = make_pipeline(ct, LogisticRegression(random_state=123))\n",
    "pipe_dt = make_pipeline(ct, DecisionTreeClassifier(random_state=123))\n",
    "pipe_rf = make_pipeline(ct, RandomForestClassifier(random_state=123))\n",
    "pipe_svc = make_pipeline(ct, SVC(random_state=123))\n",
    "pipe_catb = make_pipeline(ct, CatBoostClassifier(random_state=123, verbose=0))\n",
    "pipe_lgbm = make_pipeline(ct, LGBMClassifier(random_state=123))\n",
    "pipe_xgb = make_pipeline(ct, XGBClassifier(random_state=123, verbosity=0))"
   ]
  },
  {
   "cell_type": "code",
   "execution_count": 31,
   "id": "05c9fe5f",
   "metadata": {
    "papermill": {
     "duration": 0.039208,
     "end_time": "2023-02-24T05:13:13.497270",
     "exception": false,
     "start_time": "2023-02-24T05:13:13.458062",
     "status": "completed"
    },
    "tags": []
   },
   "outputs": [],
   "source": [
    "models = {\n",
    "    \"dummy\": pipe_dummy,\n",
    "    \"logistic_regression\": pipe_lr,\n",
    "    \"decision_tree\": pipe_dt,\n",
    "    \"random_forest\": pipe_rf,\n",
    "    \"SVC\": pipe_svc,\n",
    "    \"CatBoost\": pipe_catb,\n",
    "    \"LightGBM\": pipe_lgbm,\n",
    "    \"XGBoost\": pipe_xgb,\n",
    "}"
   ]
  },
  {
   "cell_type": "code",
   "execution_count": 32,
   "id": "97ad4fa9",
   "metadata": {
    "papermill": {
     "duration": 26.967745,
     "end_time": "2023-02-24T05:13:40.495391",
     "exception": false,
     "start_time": "2023-02-24T05:13:13.527646",
     "status": "completed"
    },
    "tags": []
   },
   "outputs": [],
   "source": [
    "for (name, model) in models.items():\n",
    "    results[name] = mean_std_cross_val_scores(\n",
    "        model, X_train, y_train, return_train_score=True\n",
    "    )"
   ]
  },
  {
   "cell_type": "code",
   "execution_count": 33,
   "id": "898797bd",
   "metadata": {
    "papermill": {
     "duration": 0.048959,
     "end_time": "2023-02-24T05:13:40.573366",
     "exception": false,
     "start_time": "2023-02-24T05:13:40.524407",
     "status": "completed"
    },
    "tags": []
   },
   "outputs": [
    {
     "data": {
      "text/html": [
       "<div>\n",
       "<style scoped>\n",
       "    .dataframe tbody tr th:only-of-type {\n",
       "        vertical-align: middle;\n",
       "    }\n",
       "\n",
       "    .dataframe tbody tr th {\n",
       "        vertical-align: top;\n",
       "    }\n",
       "\n",
       "    .dataframe thead th {\n",
       "        text-align: right;\n",
       "    }\n",
       "</style>\n",
       "<table border=\"1\" class=\"dataframe\">\n",
       "  <thead>\n",
       "    <tr style=\"text-align: right;\">\n",
       "      <th></th>\n",
       "      <th>dummy</th>\n",
       "      <th>logistic_regression</th>\n",
       "      <th>decision_tree</th>\n",
       "      <th>random_forest</th>\n",
       "      <th>SVC</th>\n",
       "      <th>CatBoost</th>\n",
       "      <th>LightGBM</th>\n",
       "      <th>XGBoost</th>\n",
       "    </tr>\n",
       "  </thead>\n",
       "  <tbody>\n",
       "    <tr>\n",
       "      <th>fit_time</th>\n",
       "      <td>0.016 (+/- 0.002)</td>\n",
       "      <td>0.033 (+/- 0.001)</td>\n",
       "      <td>0.029 (+/- 0.001)</td>\n",
       "      <td>0.608 (+/- 0.017)</td>\n",
       "      <td>0.038 (+/- 0.001)</td>\n",
       "      <td>4.161 (+/- 0.406)</td>\n",
       "      <td>0.079 (+/- 0.007)</td>\n",
       "      <td>0.144 (+/- 0.026)</td>\n",
       "    </tr>\n",
       "    <tr>\n",
       "      <th>score_time</th>\n",
       "      <td>0.007 (+/- 0.001)</td>\n",
       "      <td>0.007 (+/- 0.001)</td>\n",
       "      <td>0.007 (+/- 0.001)</td>\n",
       "      <td>0.019 (+/- 0.001)</td>\n",
       "      <td>0.012 (+/- 0.001)</td>\n",
       "      <td>0.010 (+/- 0.001)</td>\n",
       "      <td>0.016 (+/- 0.001)</td>\n",
       "      <td>0.018 (+/- 0.001)</td>\n",
       "    </tr>\n",
       "    <tr>\n",
       "      <th>test_score</th>\n",
       "      <td>0.616 (+/- 0.003)</td>\n",
       "      <td>0.843 (+/- 0.039)</td>\n",
       "      <td>0.820 (+/- 0.024)</td>\n",
       "      <td>0.835 (+/- 0.031)</td>\n",
       "      <td>0.835 (+/- 0.025)</td>\n",
       "      <td>0.839 (+/- 0.024)</td>\n",
       "      <td>0.817 (+/- 0.025)</td>\n",
       "      <td>0.815 (+/- 0.028)</td>\n",
       "    </tr>\n",
       "    <tr>\n",
       "      <th>train_score</th>\n",
       "      <td>0.616 (+/- 0.001)</td>\n",
       "      <td>0.897 (+/- 0.007)</td>\n",
       "      <td>0.996 (+/- 0.001)</td>\n",
       "      <td>0.996 (+/- 0.001)</td>\n",
       "      <td>0.859 (+/- 0.007)</td>\n",
       "      <td>0.875 (+/- 0.005)</td>\n",
       "      <td>0.896 (+/- 0.007)</td>\n",
       "      <td>0.921 (+/- 0.004)</td>\n",
       "    </tr>\n",
       "  </tbody>\n",
       "</table>\n",
       "</div>"
      ],
      "text/plain": [
       "                         dummy logistic_regression      decision_tree  \\\n",
       "fit_time     0.016 (+/- 0.002)   0.033 (+/- 0.001)  0.029 (+/- 0.001)   \n",
       "score_time   0.007 (+/- 0.001)   0.007 (+/- 0.001)  0.007 (+/- 0.001)   \n",
       "test_score   0.616 (+/- 0.003)   0.843 (+/- 0.039)  0.820 (+/- 0.024)   \n",
       "train_score  0.616 (+/- 0.001)   0.897 (+/- 0.007)  0.996 (+/- 0.001)   \n",
       "\n",
       "                 random_forest                SVC           CatBoost  \\\n",
       "fit_time     0.608 (+/- 0.017)  0.038 (+/- 0.001)  4.161 (+/- 0.406)   \n",
       "score_time   0.019 (+/- 0.001)  0.012 (+/- 0.001)  0.010 (+/- 0.001)   \n",
       "test_score   0.835 (+/- 0.031)  0.835 (+/- 0.025)  0.839 (+/- 0.024)   \n",
       "train_score  0.996 (+/- 0.001)  0.859 (+/- 0.007)  0.875 (+/- 0.005)   \n",
       "\n",
       "                      LightGBM            XGBoost  \n",
       "fit_time     0.079 (+/- 0.007)  0.144 (+/- 0.026)  \n",
       "score_time   0.016 (+/- 0.001)  0.018 (+/- 0.001)  \n",
       "test_score   0.817 (+/- 0.025)  0.815 (+/- 0.028)  \n",
       "train_score  0.896 (+/- 0.007)  0.921 (+/- 0.004)  "
      ]
     },
     "execution_count": 33,
     "metadata": {},
     "output_type": "execute_result"
    }
   ],
   "source": [
    "pd.DataFrame(results)"
   ]
  },
  {
   "cell_type": "markdown",
   "id": "0a7d798a",
   "metadata": {
    "papermill": {
     "duration": 0.028661,
     "end_time": "2023-02-24T05:13:40.631537",
     "exception": false,
     "start_time": "2023-02-24T05:13:40.602876",
     "status": "completed"
    },
    "tags": []
   },
   "source": [
    "#### `LogisticRegression`, `CatBoost`, `RandomForest`/`SVC`, `DecisionTree` 순으로 cv score가 높음"
   ]
  },
  {
   "cell_type": "markdown",
   "id": "815f5d30",
   "metadata": {
    "papermill": {
     "duration": 0.0289,
     "end_time": "2023-02-24T05:13:40.689693",
     "exception": false,
     "start_time": "2023-02-24T05:13:40.660793",
     "status": "completed"
    },
    "tags": []
   },
   "source": [
    "## 4.3. Feature Importances by `LogisticRegression`"
   ]
  },
  {
   "cell_type": "code",
   "execution_count": 34,
   "id": "907ddd16",
   "metadata": {
    "papermill": {
     "duration": 0.133878,
     "end_time": "2023-02-24T05:13:40.852878",
     "exception": false,
     "start_time": "2023-02-24T05:13:40.719000",
     "status": "completed"
    },
    "tags": []
   },
   "outputs": [
    {
     "data": {
      "text/html": [
       "<style>#sk-container-id-1 {color: black;background-color: white;}#sk-container-id-1 pre{padding: 0;}#sk-container-id-1 div.sk-toggleable {background-color: white;}#sk-container-id-1 label.sk-toggleable__label {cursor: pointer;display: block;width: 100%;margin-bottom: 0;padding: 0.3em;box-sizing: border-box;text-align: center;}#sk-container-id-1 label.sk-toggleable__label-arrow:before {content: \"▸\";float: left;margin-right: 0.25em;color: #696969;}#sk-container-id-1 label.sk-toggleable__label-arrow:hover:before {color: black;}#sk-container-id-1 div.sk-estimator:hover label.sk-toggleable__label-arrow:before {color: black;}#sk-container-id-1 div.sk-toggleable__content {max-height: 0;max-width: 0;overflow: hidden;text-align: left;background-color: #f0f8ff;}#sk-container-id-1 div.sk-toggleable__content pre {margin: 0.2em;color: black;border-radius: 0.25em;background-color: #f0f8ff;}#sk-container-id-1 input.sk-toggleable__control:checked~div.sk-toggleable__content {max-height: 200px;max-width: 100%;overflow: auto;}#sk-container-id-1 input.sk-toggleable__control:checked~label.sk-toggleable__label-arrow:before {content: \"▾\";}#sk-container-id-1 div.sk-estimator input.sk-toggleable__control:checked~label.sk-toggleable__label {background-color: #d4ebff;}#sk-container-id-1 div.sk-label input.sk-toggleable__control:checked~label.sk-toggleable__label {background-color: #d4ebff;}#sk-container-id-1 input.sk-hidden--visually {border: 0;clip: rect(1px 1px 1px 1px);clip: rect(1px, 1px, 1px, 1px);height: 1px;margin: -1px;overflow: hidden;padding: 0;position: absolute;width: 1px;}#sk-container-id-1 div.sk-estimator {font-family: monospace;background-color: #f0f8ff;border: 1px dotted black;border-radius: 0.25em;box-sizing: border-box;margin-bottom: 0.5em;}#sk-container-id-1 div.sk-estimator:hover {background-color: #d4ebff;}#sk-container-id-1 div.sk-parallel-item::after {content: \"\";width: 100%;border-bottom: 1px solid gray;flex-grow: 1;}#sk-container-id-1 div.sk-label:hover label.sk-toggleable__label {background-color: #d4ebff;}#sk-container-id-1 div.sk-serial::before {content: \"\";position: absolute;border-left: 1px solid gray;box-sizing: border-box;top: 0;bottom: 0;left: 50%;z-index: 0;}#sk-container-id-1 div.sk-serial {display: flex;flex-direction: column;align-items: center;background-color: white;padding-right: 0.2em;padding-left: 0.2em;position: relative;}#sk-container-id-1 div.sk-item {position: relative;z-index: 1;}#sk-container-id-1 div.sk-parallel {display: flex;align-items: stretch;justify-content: center;background-color: white;position: relative;}#sk-container-id-1 div.sk-item::before, #sk-container-id-1 div.sk-parallel-item::before {content: \"\";position: absolute;border-left: 1px solid gray;box-sizing: border-box;top: 0;bottom: 0;left: 50%;z-index: -1;}#sk-container-id-1 div.sk-parallel-item {display: flex;flex-direction: column;z-index: 1;position: relative;background-color: white;}#sk-container-id-1 div.sk-parallel-item:first-child::after {align-self: flex-end;width: 50%;}#sk-container-id-1 div.sk-parallel-item:last-child::after {align-self: flex-start;width: 50%;}#sk-container-id-1 div.sk-parallel-item:only-child::after {width: 0;}#sk-container-id-1 div.sk-dashed-wrapped {border: 1px dashed gray;margin: 0 0.4em 0.5em 0.4em;box-sizing: border-box;padding-bottom: 0.4em;background-color: white;}#sk-container-id-1 div.sk-label label {font-family: monospace;font-weight: bold;display: inline-block;line-height: 1.2em;}#sk-container-id-1 div.sk-label-container {text-align: center;}#sk-container-id-1 div.sk-container {/* jupyter's `normalize.less` sets `[hidden] { display: none; }` but bootstrap.min.css set `[hidden] { display: none !important; }` so we also need the `!important` here to be able to override the default hidden behavior on the sphinx rendered scikit-learn.org. See: https://github.com/scikit-learn/scikit-learn/issues/21755 */display: inline-block !important;position: relative;}#sk-container-id-1 div.sk-text-repr-fallback {display: none;}</style><div id=\"sk-container-id-1\" class=\"sk-top-container\"><div class=\"sk-text-repr-fallback\"><pre>Pipeline(steps=[(&#x27;columntransformer&#x27;,\n",
       "                 ColumnTransformer(transformers=[(&#x27;standardscaler&#x27;,\n",
       "                                                  StandardScaler(),\n",
       "                                                  [&#x27;n_Family&#x27;]),\n",
       "                                                 (&#x27;onehotencoder-1&#x27;,\n",
       "                                                  OneHotEncoder(drop=&#x27;if_binary&#x27;,\n",
       "                                                                dtype=&lt;class &#x27;int&#x27;&gt;,\n",
       "                                                                handle_unknown=&#x27;ignore&#x27;,\n",
       "                                                                sparse_output=False),\n",
       "                                                  [&#x27;Sex&#x27;, &#x27;missing_Age&#x27;]),\n",
       "                                                 (&#x27;ordinalencoder&#x27;,\n",
       "                                                  OrdinalEncoder(categories=[[&#x27;3rd&#x27;,\n",
       "                                                                              &#x27;2nd&#x27;,\n",
       "                                                                              &#x27;1st&#x27;]]),\n",
       "                                                  [&#x27;Pclass&#x27;]),\n",
       "                                                 (&#x27;countvectorizer&#x27;,\n",
       "                                                  CountVectorizer(ngram_range=(1,\n",
       "                                                                               3)),\n",
       "                                                  &#x27;Ticket&#x27;),\n",
       "                                                 (&#x27;onehotencoder-2&#x27;,\n",
       "                                                  OneHotEncoder(handle_unknown=&#x27;ignore&#x27;),\n",
       "                                                  [&#x27;Cabin&#x27;, &#x27;Embarked&#x27;,\n",
       "                                                   &#x27;Age_bin&#x27;, &#x27;Fare_bin&#x27;,\n",
       "                                                   &#x27;Title&#x27;]),\n",
       "                                                 (&#x27;drop&#x27;, &#x27;drop&#x27;,\n",
       "                                                  [&#x27;Name&#x27;, &#x27;SibSp&#x27;, &#x27;Parch&#x27;,\n",
       "                                                   &#x27;Age&#x27;, &#x27;Fare&#x27;,\n",
       "                                                   &#x27;missing_Embarked&#x27;,\n",
       "                                                   &#x27;missing_Cabin&#x27;])])),\n",
       "                (&#x27;logisticregression&#x27;, LogisticRegression(random_state=123))])</pre><b>In a Jupyter environment, please rerun this cell to show the HTML representation or trust the notebook. <br />On GitHub, the HTML representation is unable to render, please try loading this page with nbviewer.org.</b></div><div class=\"sk-container\" hidden><div class=\"sk-item sk-dashed-wrapped\"><div class=\"sk-label-container\"><div class=\"sk-label sk-toggleable\"><input class=\"sk-toggleable__control sk-hidden--visually\" id=\"sk-estimator-id-1\" type=\"checkbox\" ><label for=\"sk-estimator-id-1\" class=\"sk-toggleable__label sk-toggleable__label-arrow\">Pipeline</label><div class=\"sk-toggleable__content\"><pre>Pipeline(steps=[(&#x27;columntransformer&#x27;,\n",
       "                 ColumnTransformer(transformers=[(&#x27;standardscaler&#x27;,\n",
       "                                                  StandardScaler(),\n",
       "                                                  [&#x27;n_Family&#x27;]),\n",
       "                                                 (&#x27;onehotencoder-1&#x27;,\n",
       "                                                  OneHotEncoder(drop=&#x27;if_binary&#x27;,\n",
       "                                                                dtype=&lt;class &#x27;int&#x27;&gt;,\n",
       "                                                                handle_unknown=&#x27;ignore&#x27;,\n",
       "                                                                sparse_output=False),\n",
       "                                                  [&#x27;Sex&#x27;, &#x27;missing_Age&#x27;]),\n",
       "                                                 (&#x27;ordinalencoder&#x27;,\n",
       "                                                  OrdinalEncoder(categories=[[&#x27;3rd&#x27;,\n",
       "                                                                              &#x27;2nd&#x27;,\n",
       "                                                                              &#x27;1st&#x27;]]),\n",
       "                                                  [&#x27;Pclass&#x27;]),\n",
       "                                                 (&#x27;countvectorizer&#x27;,\n",
       "                                                  CountVectorizer(ngram_range=(1,\n",
       "                                                                               3)),\n",
       "                                                  &#x27;Ticket&#x27;),\n",
       "                                                 (&#x27;onehotencoder-2&#x27;,\n",
       "                                                  OneHotEncoder(handle_unknown=&#x27;ignore&#x27;),\n",
       "                                                  [&#x27;Cabin&#x27;, &#x27;Embarked&#x27;,\n",
       "                                                   &#x27;Age_bin&#x27;, &#x27;Fare_bin&#x27;,\n",
       "                                                   &#x27;Title&#x27;]),\n",
       "                                                 (&#x27;drop&#x27;, &#x27;drop&#x27;,\n",
       "                                                  [&#x27;Name&#x27;, &#x27;SibSp&#x27;, &#x27;Parch&#x27;,\n",
       "                                                   &#x27;Age&#x27;, &#x27;Fare&#x27;,\n",
       "                                                   &#x27;missing_Embarked&#x27;,\n",
       "                                                   &#x27;missing_Cabin&#x27;])])),\n",
       "                (&#x27;logisticregression&#x27;, LogisticRegression(random_state=123))])</pre></div></div></div><div class=\"sk-serial\"><div class=\"sk-item sk-dashed-wrapped\"><div class=\"sk-label-container\"><div class=\"sk-label sk-toggleable\"><input class=\"sk-toggleable__control sk-hidden--visually\" id=\"sk-estimator-id-2\" type=\"checkbox\" ><label for=\"sk-estimator-id-2\" class=\"sk-toggleable__label sk-toggleable__label-arrow\">columntransformer: ColumnTransformer</label><div class=\"sk-toggleable__content\"><pre>ColumnTransformer(transformers=[(&#x27;standardscaler&#x27;, StandardScaler(),\n",
       "                                 [&#x27;n_Family&#x27;]),\n",
       "                                (&#x27;onehotencoder-1&#x27;,\n",
       "                                 OneHotEncoder(drop=&#x27;if_binary&#x27;,\n",
       "                                               dtype=&lt;class &#x27;int&#x27;&gt;,\n",
       "                                               handle_unknown=&#x27;ignore&#x27;,\n",
       "                                               sparse_output=False),\n",
       "                                 [&#x27;Sex&#x27;, &#x27;missing_Age&#x27;]),\n",
       "                                (&#x27;ordinalencoder&#x27;,\n",
       "                                 OrdinalEncoder(categories=[[&#x27;3rd&#x27;, &#x27;2nd&#x27;,\n",
       "                                                             &#x27;1st&#x27;]]),\n",
       "                                 [&#x27;Pclass&#x27;]),\n",
       "                                (&#x27;countvectorizer&#x27;,\n",
       "                                 CountVectorizer(ngram_range=(1, 3)),\n",
       "                                 &#x27;Ticket&#x27;),\n",
       "                                (&#x27;onehotencoder-2&#x27;,\n",
       "                                 OneHotEncoder(handle_unknown=&#x27;ignore&#x27;),\n",
       "                                 [&#x27;Cabin&#x27;, &#x27;Embarked&#x27;, &#x27;Age_bin&#x27;, &#x27;Fare_bin&#x27;,\n",
       "                                  &#x27;Title&#x27;]),\n",
       "                                (&#x27;drop&#x27;, &#x27;drop&#x27;,\n",
       "                                 [&#x27;Name&#x27;, &#x27;SibSp&#x27;, &#x27;Parch&#x27;, &#x27;Age&#x27;, &#x27;Fare&#x27;,\n",
       "                                  &#x27;missing_Embarked&#x27;, &#x27;missing_Cabin&#x27;])])</pre></div></div></div><div class=\"sk-parallel\"><div class=\"sk-parallel-item\"><div class=\"sk-item\"><div class=\"sk-label-container\"><div class=\"sk-label sk-toggleable\"><input class=\"sk-toggleable__control sk-hidden--visually\" id=\"sk-estimator-id-3\" type=\"checkbox\" ><label for=\"sk-estimator-id-3\" class=\"sk-toggleable__label sk-toggleable__label-arrow\">standardscaler</label><div class=\"sk-toggleable__content\"><pre>[&#x27;n_Family&#x27;]</pre></div></div></div><div class=\"sk-serial\"><div class=\"sk-item\"><div class=\"sk-estimator sk-toggleable\"><input class=\"sk-toggleable__control sk-hidden--visually\" id=\"sk-estimator-id-4\" type=\"checkbox\" ><label for=\"sk-estimator-id-4\" class=\"sk-toggleable__label sk-toggleable__label-arrow\">StandardScaler</label><div class=\"sk-toggleable__content\"><pre>StandardScaler()</pre></div></div></div></div></div></div><div class=\"sk-parallel-item\"><div class=\"sk-item\"><div class=\"sk-label-container\"><div class=\"sk-label sk-toggleable\"><input class=\"sk-toggleable__control sk-hidden--visually\" id=\"sk-estimator-id-5\" type=\"checkbox\" ><label for=\"sk-estimator-id-5\" class=\"sk-toggleable__label sk-toggleable__label-arrow\">onehotencoder-1</label><div class=\"sk-toggleable__content\"><pre>[&#x27;Sex&#x27;, &#x27;missing_Age&#x27;]</pre></div></div></div><div class=\"sk-serial\"><div class=\"sk-item\"><div class=\"sk-estimator sk-toggleable\"><input class=\"sk-toggleable__control sk-hidden--visually\" id=\"sk-estimator-id-6\" type=\"checkbox\" ><label for=\"sk-estimator-id-6\" class=\"sk-toggleable__label sk-toggleable__label-arrow\">OneHotEncoder</label><div class=\"sk-toggleable__content\"><pre>OneHotEncoder(drop=&#x27;if_binary&#x27;, dtype=&lt;class &#x27;int&#x27;&gt;, handle_unknown=&#x27;ignore&#x27;,\n",
       "              sparse_output=False)</pre></div></div></div></div></div></div><div class=\"sk-parallel-item\"><div class=\"sk-item\"><div class=\"sk-label-container\"><div class=\"sk-label sk-toggleable\"><input class=\"sk-toggleable__control sk-hidden--visually\" id=\"sk-estimator-id-7\" type=\"checkbox\" ><label for=\"sk-estimator-id-7\" class=\"sk-toggleable__label sk-toggleable__label-arrow\">ordinalencoder</label><div class=\"sk-toggleable__content\"><pre>[&#x27;Pclass&#x27;]</pre></div></div></div><div class=\"sk-serial\"><div class=\"sk-item\"><div class=\"sk-estimator sk-toggleable\"><input class=\"sk-toggleable__control sk-hidden--visually\" id=\"sk-estimator-id-8\" type=\"checkbox\" ><label for=\"sk-estimator-id-8\" class=\"sk-toggleable__label sk-toggleable__label-arrow\">OrdinalEncoder</label><div class=\"sk-toggleable__content\"><pre>OrdinalEncoder(categories=[[&#x27;3rd&#x27;, &#x27;2nd&#x27;, &#x27;1st&#x27;]])</pre></div></div></div></div></div></div><div class=\"sk-parallel-item\"><div class=\"sk-item\"><div class=\"sk-label-container\"><div class=\"sk-label sk-toggleable\"><input class=\"sk-toggleable__control sk-hidden--visually\" id=\"sk-estimator-id-9\" type=\"checkbox\" ><label for=\"sk-estimator-id-9\" class=\"sk-toggleable__label sk-toggleable__label-arrow\">countvectorizer</label><div class=\"sk-toggleable__content\"><pre>Ticket</pre></div></div></div><div class=\"sk-serial\"><div class=\"sk-item\"><div class=\"sk-estimator sk-toggleable\"><input class=\"sk-toggleable__control sk-hidden--visually\" id=\"sk-estimator-id-10\" type=\"checkbox\" ><label for=\"sk-estimator-id-10\" class=\"sk-toggleable__label sk-toggleable__label-arrow\">CountVectorizer</label><div class=\"sk-toggleable__content\"><pre>CountVectorizer(ngram_range=(1, 3))</pre></div></div></div></div></div></div><div class=\"sk-parallel-item\"><div class=\"sk-item\"><div class=\"sk-label-container\"><div class=\"sk-label sk-toggleable\"><input class=\"sk-toggleable__control sk-hidden--visually\" id=\"sk-estimator-id-11\" type=\"checkbox\" ><label for=\"sk-estimator-id-11\" class=\"sk-toggleable__label sk-toggleable__label-arrow\">onehotencoder-2</label><div class=\"sk-toggleable__content\"><pre>[&#x27;Cabin&#x27;, &#x27;Embarked&#x27;, &#x27;Age_bin&#x27;, &#x27;Fare_bin&#x27;, &#x27;Title&#x27;]</pre></div></div></div><div class=\"sk-serial\"><div class=\"sk-item\"><div class=\"sk-estimator sk-toggleable\"><input class=\"sk-toggleable__control sk-hidden--visually\" id=\"sk-estimator-id-12\" type=\"checkbox\" ><label for=\"sk-estimator-id-12\" class=\"sk-toggleable__label sk-toggleable__label-arrow\">OneHotEncoder</label><div class=\"sk-toggleable__content\"><pre>OneHotEncoder(handle_unknown=&#x27;ignore&#x27;)</pre></div></div></div></div></div></div><div class=\"sk-parallel-item\"><div class=\"sk-item\"><div class=\"sk-label-container\"><div class=\"sk-label sk-toggleable\"><input class=\"sk-toggleable__control sk-hidden--visually\" id=\"sk-estimator-id-13\" type=\"checkbox\" ><label for=\"sk-estimator-id-13\" class=\"sk-toggleable__label sk-toggleable__label-arrow\">drop</label><div class=\"sk-toggleable__content\"><pre>[&#x27;Name&#x27;, &#x27;SibSp&#x27;, &#x27;Parch&#x27;, &#x27;Age&#x27;, &#x27;Fare&#x27;, &#x27;missing_Embarked&#x27;, &#x27;missing_Cabin&#x27;]</pre></div></div></div><div class=\"sk-serial\"><div class=\"sk-item\"><div class=\"sk-estimator sk-toggleable\"><input class=\"sk-toggleable__control sk-hidden--visually\" id=\"sk-estimator-id-14\" type=\"checkbox\" ><label for=\"sk-estimator-id-14\" class=\"sk-toggleable__label sk-toggleable__label-arrow\">drop</label><div class=\"sk-toggleable__content\"><pre>drop</pre></div></div></div></div></div></div></div></div><div class=\"sk-item\"><div class=\"sk-estimator sk-toggleable\"><input class=\"sk-toggleable__control sk-hidden--visually\" id=\"sk-estimator-id-15\" type=\"checkbox\" ><label for=\"sk-estimator-id-15\" class=\"sk-toggleable__label sk-toggleable__label-arrow\">LogisticRegression</label><div class=\"sk-toggleable__content\"><pre>LogisticRegression(random_state=123)</pre></div></div></div></div></div></div></div>"
      ],
      "text/plain": [
       "Pipeline(steps=[('columntransformer',\n",
       "                 ColumnTransformer(transformers=[('standardscaler',\n",
       "                                                  StandardScaler(),\n",
       "                                                  ['n_Family']),\n",
       "                                                 ('onehotencoder-1',\n",
       "                                                  OneHotEncoder(drop='if_binary',\n",
       "                                                                dtype=<class 'int'>,\n",
       "                                                                handle_unknown='ignore',\n",
       "                                                                sparse_output=False),\n",
       "                                                  ['Sex', 'missing_Age']),\n",
       "                                                 ('ordinalencoder',\n",
       "                                                  OrdinalEncoder(categories=[['3rd',\n",
       "                                                                              '2nd',\n",
       "                                                                              '1st']]),\n",
       "                                                  ['Pclass']),\n",
       "                                                 ('countvectorizer',\n",
       "                                                  CountVectorizer(ngram_range=(1,\n",
       "                                                                               3)),\n",
       "                                                  'Ticket'),\n",
       "                                                 ('onehotencoder-2',\n",
       "                                                  OneHotEncoder(handle_unknown='ignore'),\n",
       "                                                  ['Cabin', 'Embarked',\n",
       "                                                   'Age_bin', 'Fare_bin',\n",
       "                                                   'Title']),\n",
       "                                                 ('drop', 'drop',\n",
       "                                                  ['Name', 'SibSp', 'Parch',\n",
       "                                                   'Age', 'Fare',\n",
       "                                                   'missing_Embarked',\n",
       "                                                   'missing_Cabin'])])),\n",
       "                ('logisticregression', LogisticRegression(random_state=123))])"
      ]
     },
     "execution_count": 34,
     "metadata": {},
     "output_type": "execute_result"
    }
   ],
   "source": [
    "pipe_lr.fit(X_train, y_train)"
   ]
  },
  {
   "cell_type": "code",
   "execution_count": 35,
   "id": "c2fc5512",
   "metadata": {
    "papermill": {
     "duration": 0.039575,
     "end_time": "2023-02-24T05:13:40.921595",
     "exception": false,
     "start_time": "2023-02-24T05:13:40.882020",
     "status": "completed"
    },
    "tags": []
   },
   "outputs": [],
   "source": [
    "ticket_columns = (pipe_lr\n",
    "                 .named_steps[\"columntransformer\"]\n",
    "                 .named_transformers_[\"countvectorizer\"]\n",
    "                 .get_feature_names_out(ticket_features)\n",
    "                 .tolist())"
   ]
  },
  {
   "cell_type": "code",
   "execution_count": 36,
   "id": "5f23df8f",
   "metadata": {
    "papermill": {
     "duration": 0.039083,
     "end_time": "2023-02-24T05:13:40.989603",
     "exception": false,
     "start_time": "2023-02-24T05:13:40.950520",
     "status": "completed"
    },
    "tags": []
   },
   "outputs": [],
   "source": [
    "catagorical_columns = (pipe_lr\n",
    "                       .named_steps[\"columntransformer\"]\n",
    "                       .named_transformers_[\"onehotencoder-2\"]\n",
    "                       .get_feature_names_out(categorical_features)\n",
    "                       .tolist())"
   ]
  },
  {
   "cell_type": "code",
   "execution_count": 37,
   "id": "77048d1d",
   "metadata": {
    "papermill": {
     "duration": 0.039631,
     "end_time": "2023-02-24T05:13:41.059669",
     "exception": false,
     "start_time": "2023-02-24T05:13:41.020038",
     "status": "completed"
    },
    "tags": []
   },
   "outputs": [],
   "source": [
    "columns = numeric_features + binary_features + ordinal_features + ticket_columns + catagorical_columns"
   ]
  },
  {
   "cell_type": "code",
   "execution_count": 38,
   "id": "c5bdc090",
   "metadata": {
    "papermill": {
     "duration": 0.536223,
     "end_time": "2023-02-24T05:13:41.627002",
     "exception": false,
     "start_time": "2023-02-24T05:13:41.090779",
     "status": "completed"
    },
    "tags": []
   },
   "outputs": [
    {
     "data": {
      "image/png": "[encoded data removed]",
      "text/plain": [
       "<Figure size 640x480 with 1 Axes>"
      ]
     },
     "metadata": {},
     "output_type": "display_data"
    }
   ],
   "source": [
    "# Top 20 Features\n",
    "top20_lr = pd.Series(\n",
    "    pipe_lr.named_steps[\"logisticregression\"].coef_.flatten(), \n",
    "    columns\n",
    ").sort_values(ascending=False).head(20)\n",
    "\n",
    "top20_lr.plot.barh().invert_yaxis()\n",
    "plt.show();"
   ]
  },
  {
   "cell_type": "code",
   "execution_count": 39,
   "id": "afe1cc8e",
   "metadata": {
    "papermill": {
     "duration": 0.341021,
     "end_time": "2023-02-24T05:13:41.998526",
     "exception": false,
     "start_time": "2023-02-24T05:13:41.657505",
     "status": "completed"
    },
    "tags": []
   },
   "outputs": [
    {
     "data": {
      "image/png": "[encoded data removed]",
      "text/plain": [
       "<Figure size 640x480 with 1 Axes>"
      ]
     },
     "metadata": {},
     "output_type": "display_data"
    }
   ],
   "source": [
    "# Bottom 20 Features\n",
    "top20_lr = pd.Series(\n",
    "    pipe_lr.named_steps[\"logisticregression\"].coef_.flatten(), \n",
    "    columns\n",
    ").sort_values(ascending=False).tail(20)\n",
    "\n",
    "top20_lr.plot.barh().invert_yaxis()\n",
    "plt.show();"
   ]
  },
  {
   "cell_type": "markdown",
   "id": "b221ab41",
   "metadata": {
    "papermill": {
     "duration": 0.03196,
     "end_time": "2023-02-24T05:13:42.064415",
     "exception": false,
     "start_time": "2023-02-24T05:13:42.032455",
     "status": "completed"
    },
    "tags": []
   },
   "source": [
    "## 4.4. Feature Importances by `RandomForest`"
   ]
  },
  {
   "cell_type": "code",
   "execution_count": 40,
   "id": "a9fee72d",
   "metadata": {
    "papermill": {
     "duration": 0.460248,
     "end_time": "2023-02-24T05:13:42.556373",
     "exception": false,
     "start_time": "2023-02-24T05:13:42.096125",
     "status": "completed"
    },
    "tags": []
   },
   "outputs": [
    {
     "data": {
      "text/html": [
       "<style>#sk-container-id-2 {color: black;background-color: white;}#sk-container-id-2 pre{padding: 0;}#sk-container-id-2 div.sk-toggleable {background-color: white;}#sk-container-id-2 label.sk-toggleable__label {cursor: pointer;display: block;width: 100%;margin-bottom: 0;padding: 0.3em;box-sizing: border-box;text-align: center;}#sk-container-id-2 label.sk-toggleable__label-arrow:before {content: \"▸\";float: left;margin-right: 0.25em;color: #696969;}#sk-container-id-2 label.sk-toggleable__label-arrow:hover:before {color: black;}#sk-container-id-2 div.sk-estimator:hover label.sk-toggleable__label-arrow:before {color: black;}#sk-container-id-2 div.sk-toggleable__content {max-height: 0;max-width: 0;overflow: hidden;text-align: left;background-color: #f0f8ff;}#sk-container-id-2 div.sk-toggleable__content pre {margin: 0.2em;color: black;border-radius: 0.25em;background-color: #f0f8ff;}#sk-container-id-2 input.sk-toggleable__control:checked~div.sk-toggleable__content {max-height: 200px;max-width: 100%;overflow: auto;}#sk-container-id-2 input.sk-toggleable__control:checked~label.sk-toggleable__label-arrow:before {content: \"▾\";}#sk-container-id-2 div.sk-estimator input.sk-toggleable__control:checked~label.sk-toggleable__label {background-color: #d4ebff;}#sk-container-id-2 div.sk-label input.sk-toggleable__control:checked~label.sk-toggleable__label {background-color: #d4ebff;}#sk-container-id-2 input.sk-hidden--visually {border: 0;clip: rect(1px 1px 1px 1px);clip: rect(1px, 1px, 1px, 1px);height: 1px;margin: -1px;overflow: hidden;padding: 0;position: absolute;width: 1px;}#sk-container-id-2 div.sk-estimator {font-family: monospace;background-color: #f0f8ff;border: 1px dotted black;border-radius: 0.25em;box-sizing: border-box;margin-bottom: 0.5em;}#sk-container-id-2 div.sk-estimator:hover {background-color: #d4ebff;}#sk-container-id-2 div.sk-parallel-item::after {content: \"\";width: 100%;border-bottom: 1px solid gray;flex-grow: 1;}#sk-container-id-2 div.sk-label:hover label.sk-toggleable__label {background-color: #d4ebff;}#sk-container-id-2 div.sk-serial::before {content: \"\";position: absolute;border-left: 1px solid gray;box-sizing: border-box;top: 0;bottom: 0;left: 50%;z-index: 0;}#sk-container-id-2 div.sk-serial {display: flex;flex-direction: column;align-items: center;background-color: white;padding-right: 0.2em;padding-left: 0.2em;position: relative;}#sk-container-id-2 div.sk-item {position: relative;z-index: 1;}#sk-container-id-2 div.sk-parallel {display: flex;align-items: stretch;justify-content: center;background-color: white;position: relative;}#sk-container-id-2 div.sk-item::before, #sk-container-id-2 div.sk-parallel-item::before {content: \"\";position: absolute;border-left: 1px solid gray;box-sizing: border-box;top: 0;bottom: 0;left: 50%;z-index: -1;}#sk-container-id-2 div.sk-parallel-item {display: flex;flex-direction: column;z-index: 1;position: relative;background-color: white;}#sk-container-id-2 div.sk-parallel-item:first-child::after {align-self: flex-end;width: 50%;}#sk-container-id-2 div.sk-parallel-item:last-child::after {align-self: flex-start;width: 50%;}#sk-container-id-2 div.sk-parallel-item:only-child::after {width: 0;}#sk-container-id-2 div.sk-dashed-wrapped {border: 1px dashed gray;margin: 0 0.4em 0.5em 0.4em;box-sizing: border-box;padding-bottom: 0.4em;background-color: white;}#sk-container-id-2 div.sk-label label {font-family: monospace;font-weight: bold;display: inline-block;line-height: 1.2em;}#sk-container-id-2 div.sk-label-container {text-align: center;}#sk-container-id-2 div.sk-container {/* jupyter's `normalize.less` sets `[hidden] { display: none; }` but bootstrap.min.css set `[hidden] { display: none !important; }` so we also need the `!important` here to be able to override the default hidden behavior on the sphinx rendered scikit-learn.org. See: https://github.com/scikit-learn/scikit-learn/issues/21755 */display: inline-block !important;position: relative;}#sk-container-id-2 div.sk-text-repr-fallback {display: none;}</style><div id=\"sk-container-id-2\" class=\"sk-top-container\"><div class=\"sk-text-repr-fallback\"><pre>Pipeline(steps=[(&#x27;columntransformer&#x27;,\n",
       "                 ColumnTransformer(transformers=[(&#x27;standardscaler&#x27;,\n",
       "                                                  StandardScaler(),\n",
       "                                                  [&#x27;n_Family&#x27;]),\n",
       "                                                 (&#x27;onehotencoder-1&#x27;,\n",
       "                                                  OneHotEncoder(drop=&#x27;if_binary&#x27;,\n",
       "                                                                dtype=&lt;class &#x27;int&#x27;&gt;,\n",
       "                                                                handle_unknown=&#x27;ignore&#x27;,\n",
       "                                                                sparse_output=False),\n",
       "                                                  [&#x27;Sex&#x27;, &#x27;missing_Age&#x27;]),\n",
       "                                                 (&#x27;ordinalencoder&#x27;,\n",
       "                                                  OrdinalEncoder(categories=[[&#x27;3rd&#x27;,\n",
       "                                                                              &#x27;2nd&#x27;,\n",
       "                                                                              &#x27;1st&#x27;]]),\n",
       "                                                  [&#x27;Pclass&#x27;]),\n",
       "                                                 (&#x27;countvectorizer&#x27;,\n",
       "                                                  CountVectorizer(ngram_range=(1,\n",
       "                                                                               3)),\n",
       "                                                  &#x27;Ticket&#x27;),\n",
       "                                                 (&#x27;onehotencoder-2&#x27;,\n",
       "                                                  OneHotEncoder(handle_unknown=&#x27;ignore&#x27;),\n",
       "                                                  [&#x27;Cabin&#x27;, &#x27;Embarked&#x27;,\n",
       "                                                   &#x27;Age_bin&#x27;, &#x27;Fare_bin&#x27;,\n",
       "                                                   &#x27;Title&#x27;]),\n",
       "                                                 (&#x27;drop&#x27;, &#x27;drop&#x27;,\n",
       "                                                  [&#x27;Name&#x27;, &#x27;SibSp&#x27;, &#x27;Parch&#x27;,\n",
       "                                                   &#x27;Age&#x27;, &#x27;Fare&#x27;,\n",
       "                                                   &#x27;missing_Embarked&#x27;,\n",
       "                                                   &#x27;missing_Cabin&#x27;])])),\n",
       "                (&#x27;randomforestclassifier&#x27;,\n",
       "                 RandomForestClassifier(random_state=123))])</pre><b>In a Jupyter environment, please rerun this cell to show the HTML representation or trust the notebook. <br />On GitHub, the HTML representation is unable to render, please try loading this page with nbviewer.org.</b></div><div class=\"sk-container\" hidden><div class=\"sk-item sk-dashed-wrapped\"><div class=\"sk-label-container\"><div class=\"sk-label sk-toggleable\"><input class=\"sk-toggleable__control sk-hidden--visually\" id=\"sk-estimator-id-16\" type=\"checkbox\" ><label for=\"sk-estimator-id-16\" class=\"sk-toggleable__label sk-toggleable__label-arrow\">Pipeline</label><div class=\"sk-toggleable__content\"><pre>Pipeline(steps=[(&#x27;columntransformer&#x27;,\n",
       "                 ColumnTransformer(transformers=[(&#x27;standardscaler&#x27;,\n",
       "                                                  StandardScaler(),\n",
       "                                                  [&#x27;n_Family&#x27;]),\n",
       "                                                 (&#x27;onehotencoder-1&#x27;,\n",
       "                                                  OneHotEncoder(drop=&#x27;if_binary&#x27;,\n",
       "                                                                dtype=&lt;class &#x27;int&#x27;&gt;,\n",
       "                                                                handle_unknown=&#x27;ignore&#x27;,\n",
       "                                                                sparse_output=False),\n",
       "                                                  [&#x27;Sex&#x27;, &#x27;missing_Age&#x27;]),\n",
       "                                                 (&#x27;ordinalencoder&#x27;,\n",
       "                                                  OrdinalEncoder(categories=[[&#x27;3rd&#x27;,\n",
       "                                                                              &#x27;2nd&#x27;,\n",
       "                                                                              &#x27;1st&#x27;]]),\n",
       "                                                  [&#x27;Pclass&#x27;]),\n",
       "                                                 (&#x27;countvectorizer&#x27;,\n",
       "                                                  CountVectorizer(ngram_range=(1,\n",
       "                                                                               3)),\n",
       "                                                  &#x27;Ticket&#x27;),\n",
       "                                                 (&#x27;onehotencoder-2&#x27;,\n",
       "                                                  OneHotEncoder(handle_unknown=&#x27;ignore&#x27;),\n",
       "                                                  [&#x27;Cabin&#x27;, &#x27;Embarked&#x27;,\n",
       "                                                   &#x27;Age_bin&#x27;, &#x27;Fare_bin&#x27;,\n",
       "                                                   &#x27;Title&#x27;]),\n",
       "                                                 (&#x27;drop&#x27;, &#x27;drop&#x27;,\n",
       "                                                  [&#x27;Name&#x27;, &#x27;SibSp&#x27;, &#x27;Parch&#x27;,\n",
       "                                                   &#x27;Age&#x27;, &#x27;Fare&#x27;,\n",
       "                                                   &#x27;missing_Embarked&#x27;,\n",
       "                                                   &#x27;missing_Cabin&#x27;])])),\n",
       "                (&#x27;randomforestclassifier&#x27;,\n",
       "                 RandomForestClassifier(random_state=123))])</pre></div></div></div><div class=\"sk-serial\"><div class=\"sk-item sk-dashed-wrapped\"><div class=\"sk-label-container\"><div class=\"sk-label sk-toggleable\"><input class=\"sk-toggleable__control sk-hidden--visually\" id=\"sk-estimator-id-17\" type=\"checkbox\" ><label for=\"sk-estimator-id-17\" class=\"sk-toggleable__label sk-toggleable__label-arrow\">columntransformer: ColumnTransformer</label><div class=\"sk-toggleable__content\"><pre>ColumnTransformer(transformers=[(&#x27;standardscaler&#x27;, StandardScaler(),\n",
       "                                 [&#x27;n_Family&#x27;]),\n",
       "                                (&#x27;onehotencoder-1&#x27;,\n",
       "                                 OneHotEncoder(drop=&#x27;if_binary&#x27;,\n",
       "                                               dtype=&lt;class &#x27;int&#x27;&gt;,\n",
       "                                               handle_unknown=&#x27;ignore&#x27;,\n",
       "                                               sparse_output=False),\n",
       "                                 [&#x27;Sex&#x27;, &#x27;missing_Age&#x27;]),\n",
       "                                (&#x27;ordinalencoder&#x27;,\n",
       "                                 OrdinalEncoder(categories=[[&#x27;3rd&#x27;, &#x27;2nd&#x27;,\n",
       "                                                             &#x27;1st&#x27;]]),\n",
       "                                 [&#x27;Pclass&#x27;]),\n",
       "                                (&#x27;countvectorizer&#x27;,\n",
       "                                 CountVectorizer(ngram_range=(1, 3)),\n",
       "                                 &#x27;Ticket&#x27;),\n",
       "                                (&#x27;onehotencoder-2&#x27;,\n",
       "                                 OneHotEncoder(handle_unknown=&#x27;ignore&#x27;),\n",
       "                                 [&#x27;Cabin&#x27;, &#x27;Embarked&#x27;, &#x27;Age_bin&#x27;, &#x27;Fare_bin&#x27;,\n",
       "                                  &#x27;Title&#x27;]),\n",
       "                                (&#x27;drop&#x27;, &#x27;drop&#x27;,\n",
       "                                 [&#x27;Name&#x27;, &#x27;SibSp&#x27;, &#x27;Parch&#x27;, &#x27;Age&#x27;, &#x27;Fare&#x27;,\n",
       "                                  &#x27;missing_Embarked&#x27;, &#x27;missing_Cabin&#x27;])])</pre></div></div></div><div class=\"sk-parallel\"><div class=\"sk-parallel-item\"><div class=\"sk-item\"><div class=\"sk-label-container\"><div class=\"sk-label sk-toggleable\"><input class=\"sk-toggleable__control sk-hidden--visually\" id=\"sk-estimator-id-18\" type=\"checkbox\" ><label for=\"sk-estimator-id-18\" class=\"sk-toggleable__label sk-toggleable__label-arrow\">standardscaler</label><div class=\"sk-toggleable__content\"><pre>[&#x27;n_Family&#x27;]</pre></div></div></div><div class=\"sk-serial\"><div class=\"sk-item\"><div class=\"sk-estimator sk-toggleable\"><input class=\"sk-toggleable__control sk-hidden--visually\" id=\"sk-estimator-id-19\" type=\"checkbox\" ><label for=\"sk-estimator-id-19\" class=\"sk-toggleable__label sk-toggleable__label-arrow\">StandardScaler</label><div class=\"sk-toggleable__content\"><pre>StandardScaler()</pre></div></div></div></div></div></div><div class=\"sk-parallel-item\"><div class=\"sk-item\"><div class=\"sk-label-container\"><div class=\"sk-label sk-toggleable\"><input class=\"sk-toggleable__control sk-hidden--visually\" id=\"sk-estimator-id-20\" type=\"checkbox\" ><label for=\"sk-estimator-id-20\" class=\"sk-toggleable__label sk-toggleable__label-arrow\">onehotencoder-1</label><div class=\"sk-toggleable__content\"><pre>[&#x27;Sex&#x27;, &#x27;missing_Age&#x27;]</pre></div></div></div><div class=\"sk-serial\"><div class=\"sk-item\"><div class=\"sk-estimator sk-toggleable\"><input class=\"sk-toggleable__control sk-hidden--visually\" id=\"sk-estimator-id-21\" type=\"checkbox\" ><label for=\"sk-estimator-id-21\" class=\"sk-toggleable__label sk-toggleable__label-arrow\">OneHotEncoder</label><div class=\"sk-toggleable__content\"><pre>OneHotEncoder(drop=&#x27;if_binary&#x27;, dtype=&lt;class &#x27;int&#x27;&gt;, handle_unknown=&#x27;ignore&#x27;,\n",
       "              sparse_output=False)</pre></div></div></div></div></div></div><div class=\"sk-parallel-item\"><div class=\"sk-item\"><div class=\"sk-label-container\"><div class=\"sk-label sk-toggleable\"><input class=\"sk-toggleable__control sk-hidden--visually\" id=\"sk-estimator-id-22\" type=\"checkbox\" ><label for=\"sk-estimator-id-22\" class=\"sk-toggleable__label sk-toggleable__label-arrow\">ordinalencoder</label><div class=\"sk-toggleable__content\"><pre>[&#x27;Pclass&#x27;]</pre></div></div></div><div class=\"sk-serial\"><div class=\"sk-item\"><div class=\"sk-estimator sk-toggleable\"><input class=\"sk-toggleable__control sk-hidden--visually\" id=\"sk-estimator-id-23\" type=\"checkbox\" ><label for=\"sk-estimator-id-23\" class=\"sk-toggleable__label sk-toggleable__label-arrow\">OrdinalEncoder</label><div class=\"sk-toggleable__content\"><pre>OrdinalEncoder(categories=[[&#x27;3rd&#x27;, &#x27;2nd&#x27;, &#x27;1st&#x27;]])</pre></div></div></div></div></div></div><div class=\"sk-parallel-item\"><div class=\"sk-item\"><div class=\"sk-label-container\"><div class=\"sk-label sk-toggleable\"><input class=\"sk-toggleable__control sk-hidden--visually\" id=\"sk-estimator-id-24\" type=\"checkbox\" ><label for=\"sk-estimator-id-24\" class=\"sk-toggleable__label sk-toggleable__label-arrow\">countvectorizer</label><div class=\"sk-toggleable__content\"><pre>Ticket</pre></div></div></div><div class=\"sk-serial\"><div class=\"sk-item\"><div class=\"sk-estimator sk-toggleable\"><input class=\"sk-toggleable__control sk-hidden--visually\" id=\"sk-estimator-id-25\" type=\"checkbox\" ><label for=\"sk-estimator-id-25\" class=\"sk-toggleable__label sk-toggleable__label-arrow\">CountVectorizer</label><div class=\"sk-toggleable__content\"><pre>CountVectorizer(ngram_range=(1, 3))</pre></div></div></div></div></div></div><div class=\"sk-parallel-item\"><div class=\"sk-item\"><div class=\"sk-label-container\"><div class=\"sk-label sk-toggleable\"><input class=\"sk-toggleable__control sk-hidden--visually\" id=\"sk-estimator-id-26\" type=\"checkbox\" ><label for=\"sk-estimator-id-26\" class=\"sk-toggleable__label sk-toggleable__label-arrow\">onehotencoder-2</label><div class=\"sk-toggleable__content\"><pre>[&#x27;Cabin&#x27;, &#x27;Embarked&#x27;, &#x27;Age_bin&#x27;, &#x27;Fare_bin&#x27;, &#x27;Title&#x27;]</pre></div></div></div><div class=\"sk-serial\"><div class=\"sk-item\"><div class=\"sk-estimator sk-toggleable\"><input class=\"sk-toggleable__control sk-hidden--visually\" id=\"sk-estimator-id-27\" type=\"checkbox\" ><label for=\"sk-estimator-id-27\" class=\"sk-toggleable__label sk-toggleable__label-arrow\">OneHotEncoder</label><div class=\"sk-toggleable__content\"><pre>OneHotEncoder(handle_unknown=&#x27;ignore&#x27;)</pre></div></div></div></div></div></div><div class=\"sk-parallel-item\"><div class=\"sk-item\"><div class=\"sk-label-container\"><div class=\"sk-label sk-toggleable\"><input class=\"sk-toggleable__control sk-hidden--visually\" id=\"sk-estimator-id-28\" type=\"checkbox\" ><label for=\"sk-estimator-id-28\" class=\"sk-toggleable__label sk-toggleable__label-arrow\">drop</label><div class=\"sk-toggleable__content\"><pre>[&#x27;Name&#x27;, &#x27;SibSp&#x27;, &#x27;Parch&#x27;, &#x27;Age&#x27;, &#x27;Fare&#x27;, &#x27;missing_Embarked&#x27;, &#x27;missing_Cabin&#x27;]</pre></div></div></div><div class=\"sk-serial\"><div class=\"sk-item\"><div class=\"sk-estimator sk-toggleable\"><input class=\"sk-toggleable__control sk-hidden--visually\" id=\"sk-estimator-id-29\" type=\"checkbox\" ><label for=\"sk-estimator-id-29\" class=\"sk-toggleable__label sk-toggleable__label-arrow\">drop</label><div class=\"sk-toggleable__content\"><pre>drop</pre></div></div></div></div></div></div></div></div><div class=\"sk-item\"><div class=\"sk-estimator sk-toggleable\"><input class=\"sk-toggleable__control sk-hidden--visually\" id=\"sk-estimator-id-30\" type=\"checkbox\" ><label for=\"sk-estimator-id-30\" class=\"sk-toggleable__label sk-toggleable__label-arrow\">RandomForestClassifier</label><div class=\"sk-toggleable__content\"><pre>RandomForestClassifier(random_state=123)</pre></div></div></div></div></div></div></div>"
      ],
      "text/plain": [
       "Pipeline(steps=[('columntransformer',\n",
       "                 ColumnTransformer(transformers=[('standardscaler',\n",
       "                                                  StandardScaler(),\n",
       "                                                  ['n_Family']),\n",
       "                                                 ('onehotencoder-1',\n",
       "                                                  OneHotEncoder(drop='if_binary',\n",
       "                                                                dtype=<class 'int'>,\n",
       "                                                                handle_unknown='ignore',\n",
       "                                                                sparse_output=False),\n",
       "                                                  ['Sex', 'missing_Age']),\n",
       "                                                 ('ordinalencoder',\n",
       "                                                  OrdinalEncoder(categories=[['3rd',\n",
       "                                                                              '2nd',\n",
       "                                                                              '1st']]),\n",
       "                                                  ['Pclass']),\n",
       "                                                 ('countvectorizer',\n",
       "                                                  CountVectorizer(ngram_range=(1,\n",
       "                                                                               3)),\n",
       "                                                  'Ticket'),\n",
       "                                                 ('onehotencoder-2',\n",
       "                                                  OneHotEncoder(handle_unknown='ignore'),\n",
       "                                                  ['Cabin', 'Embarked',\n",
       "                                                   'Age_bin', 'Fare_bin',\n",
       "                                                   'Title']),\n",
       "                                                 ('drop', 'drop',\n",
       "                                                  ['Name', 'SibSp', 'Parch',\n",
       "                                                   'Age', 'Fare',\n",
       "                                                   'missing_Embarked',\n",
       "                                                   'missing_Cabin'])])),\n",
       "                ('randomforestclassifier',\n",
       "                 RandomForestClassifier(random_state=123))])"
      ]
     },
     "execution_count": 40,
     "metadata": {},
     "output_type": "execute_result"
    }
   ],
   "source": [
    "pipe_rf.fit(X_train, y_train)"
   ]
  },
  {
   "cell_type": "code",
   "execution_count": 41,
   "id": "973c15a5",
   "metadata": {
    "papermill": {
     "duration": 0.358709,
     "end_time": "2023-02-24T05:13:42.948468",
     "exception": false,
     "start_time": "2023-02-24T05:13:42.589759",
     "status": "completed"
    },
    "tags": []
   },
   "outputs": [
    {
     "data": {
      "image/png": "[encoded data removed]",
      "text/plain": [
       "<Figure size 640x480 with 1 Axes>"
      ]
     },
     "metadata": {},
     "output_type": "display_data"
    }
   ],
   "source": [
    "top20_rf = pd.Series(\n",
    "    pipe_rf.named_steps[\"randomforestclassifier\"].feature_importances_, \n",
    "    columns\n",
    ").sort_values(ascending=False).head(20)\n",
    "top20_rf.plot.barh().invert_yaxis()\n",
    "plt.show()"
   ]
  },
  {
   "cell_type": "markdown",
   "id": "995b0b5f",
   "metadata": {
    "papermill": {
     "duration": 0.032056,
     "end_time": "2023-02-24T05:13:43.014527",
     "exception": false,
     "start_time": "2023-02-24T05:13:42.982471",
     "status": "completed"
    },
    "tags": []
   },
   "source": [
    "# 5. Prediction"
   ]
  },
  {
   "cell_type": "code",
   "execution_count": 42,
   "id": "cb6e7a2a",
   "metadata": {
    "papermill": {
     "duration": 0.093713,
     "end_time": "2023-02-24T05:13:43.140333",
     "exception": false,
     "start_time": "2023-02-24T05:13:43.046620",
     "status": "completed"
    },
    "tags": []
   },
   "outputs": [
    {
     "data": {
      "text/html": [
       "<div>\n",
       "<style scoped>\n",
       "    .dataframe tbody tr th:only-of-type {\n",
       "        vertical-align: middle;\n",
       "    }\n",
       "\n",
       "    .dataframe tbody tr th {\n",
       "        vertical-align: top;\n",
       "    }\n",
       "\n",
       "    .dataframe thead th {\n",
       "        text-align: right;\n",
       "    }\n",
       "</style>\n",
       "<table border=\"1\" class=\"dataframe\">\n",
       "  <thead>\n",
       "    <tr style=\"text-align: right;\">\n",
       "      <th></th>\n",
       "      <th>Pclass</th>\n",
       "      <th>Name</th>\n",
       "      <th>Sex</th>\n",
       "      <th>Age</th>\n",
       "      <th>SibSp</th>\n",
       "      <th>Parch</th>\n",
       "      <th>Ticket</th>\n",
       "      <th>Fare</th>\n",
       "      <th>Cabin</th>\n",
       "      <th>Embarked</th>\n",
       "      <th>missing_Age</th>\n",
       "      <th>missing_Cabin</th>\n",
       "      <th>missing_Embarked</th>\n",
       "      <th>n_Family</th>\n",
       "      <th>Age_bin</th>\n",
       "      <th>Fare_bin</th>\n",
       "      <th>Title</th>\n",
       "    </tr>\n",
       "    <tr>\n",
       "      <th>PassengerId</th>\n",
       "      <th></th>\n",
       "      <th></th>\n",
       "      <th></th>\n",
       "      <th></th>\n",
       "      <th></th>\n",
       "      <th></th>\n",
       "      <th></th>\n",
       "      <th></th>\n",
       "      <th></th>\n",
       "      <th></th>\n",
       "      <th></th>\n",
       "      <th></th>\n",
       "      <th></th>\n",
       "      <th></th>\n",
       "      <th></th>\n",
       "      <th></th>\n",
       "      <th></th>\n",
       "    </tr>\n",
       "  </thead>\n",
       "  <tbody>\n",
       "    <tr>\n",
       "      <th>892</th>\n",
       "      <td>3rd</td>\n",
       "      <td>Kelly, Mr. James</td>\n",
       "      <td>male</td>\n",
       "      <td>34.5</td>\n",
       "      <td>0</td>\n",
       "      <td>0</td>\n",
       "      <td>330911</td>\n",
       "      <td>7.8292</td>\n",
       "      <td>missing</td>\n",
       "      <td>Q</td>\n",
       "      <td>False</td>\n",
       "      <td>True</td>\n",
       "      <td>False</td>\n",
       "      <td>1</td>\n",
       "      <td>Adult</td>\n",
       "      <td>Low_fare</td>\n",
       "      <td>Mr</td>\n",
       "    </tr>\n",
       "    <tr>\n",
       "      <th>893</th>\n",
       "      <td>3rd</td>\n",
       "      <td>Wilkes, Mrs. James (Ellen Needs)</td>\n",
       "      <td>female</td>\n",
       "      <td>47.0</td>\n",
       "      <td>1</td>\n",
       "      <td>0</td>\n",
       "      <td>363272</td>\n",
       "      <td>7.0000</td>\n",
       "      <td>missing</td>\n",
       "      <td>S</td>\n",
       "      <td>False</td>\n",
       "      <td>True</td>\n",
       "      <td>False</td>\n",
       "      <td>2</td>\n",
       "      <td>Elder</td>\n",
       "      <td>Low_fare</td>\n",
       "      <td>Mrs</td>\n",
       "    </tr>\n",
       "    <tr>\n",
       "      <th>894</th>\n",
       "      <td>2nd</td>\n",
       "      <td>Myles, Mr. Thomas Francis</td>\n",
       "      <td>male</td>\n",
       "      <td>62.0</td>\n",
       "      <td>0</td>\n",
       "      <td>0</td>\n",
       "      <td>240276</td>\n",
       "      <td>9.6875</td>\n",
       "      <td>missing</td>\n",
       "      <td>Q</td>\n",
       "      <td>False</td>\n",
       "      <td>True</td>\n",
       "      <td>False</td>\n",
       "      <td>1</td>\n",
       "      <td>Elder</td>\n",
       "      <td>median_fare</td>\n",
       "      <td>Mr</td>\n",
       "    </tr>\n",
       "    <tr>\n",
       "      <th>895</th>\n",
       "      <td>3rd</td>\n",
       "      <td>Wirz, Mr. Albert</td>\n",
       "      <td>male</td>\n",
       "      <td>27.0</td>\n",
       "      <td>0</td>\n",
       "      <td>0</td>\n",
       "      <td>315154</td>\n",
       "      <td>8.6625</td>\n",
       "      <td>missing</td>\n",
       "      <td>S</td>\n",
       "      <td>False</td>\n",
       "      <td>True</td>\n",
       "      <td>False</td>\n",
       "      <td>1</td>\n",
       "      <td>Adult</td>\n",
       "      <td>median_fare</td>\n",
       "      <td>Mr</td>\n",
       "    </tr>\n",
       "    <tr>\n",
       "      <th>896</th>\n",
       "      <td>3rd</td>\n",
       "      <td>Hirvonen, Mrs. Alexander (Helga E Lindqvist)</td>\n",
       "      <td>female</td>\n",
       "      <td>22.0</td>\n",
       "      <td>1</td>\n",
       "      <td>1</td>\n",
       "      <td>3101298</td>\n",
       "      <td>12.2875</td>\n",
       "      <td>missing</td>\n",
       "      <td>S</td>\n",
       "      <td>False</td>\n",
       "      <td>True</td>\n",
       "      <td>False</td>\n",
       "      <td>3</td>\n",
       "      <td>Adult</td>\n",
       "      <td>median_fare</td>\n",
       "      <td>Mrs</td>\n",
       "    </tr>\n",
       "  </tbody>\n",
       "</table>\n",
       "</div>"
      ],
      "text/plain": [
       "            Pclass                                          Name     Sex  \\\n",
       "PassengerId                                                                \n",
       "892            3rd                              Kelly, Mr. James    male   \n",
       "893            3rd              Wilkes, Mrs. James (Ellen Needs)  female   \n",
       "894            2nd                     Myles, Mr. Thomas Francis    male   \n",
       "895            3rd                              Wirz, Mr. Albert    male   \n",
       "896            3rd  Hirvonen, Mrs. Alexander (Helga E Lindqvist)  female   \n",
       "\n",
       "              Age  SibSp  Parch   Ticket     Fare    Cabin Embarked  \\\n",
       "PassengerId                                                           \n",
       "892          34.5      0      0   330911   7.8292  missing        Q   \n",
       "893          47.0      1      0   363272   7.0000  missing        S   \n",
       "894          62.0      0      0   240276   9.6875  missing        Q   \n",
       "895          27.0      0      0   315154   8.6625  missing        S   \n",
       "896          22.0      1      1  3101298  12.2875  missing        S   \n",
       "\n",
       "             missing_Age  missing_Cabin  missing_Embarked  n_Family Age_bin  \\\n",
       "PassengerId                                                                   \n",
       "892                False           True             False         1   Adult   \n",
       "893                False           True             False         2   Elder   \n",
       "894                False           True             False         1   Elder   \n",
       "895                False           True             False         1   Adult   \n",
       "896                False           True             False         3   Adult   \n",
       "\n",
       "                Fare_bin Title  \n",
       "PassengerId                     \n",
       "892             Low_fare    Mr  \n",
       "893             Low_fare   Mrs  \n",
       "894          median_fare    Mr  \n",
       "895          median_fare    Mr  \n",
       "896          median_fare   Mrs  "
      ]
     },
     "execution_count": 42,
     "metadata": {},
     "output_type": "execute_result"
    }
   ],
   "source": [
    "X_test = preprocess_titanic_data(test_df)\n",
    "X_test.head()"
   ]
  },
  {
   "cell_type": "markdown",
   "id": "b1b786e4",
   "metadata": {
    "papermill": {
     "duration": 0.032547,
     "end_time": "2023-02-24T05:13:43.205641",
     "exception": false,
     "start_time": "2023-02-24T05:13:43.173094",
     "status": "completed"
    },
    "tags": []
   },
   "source": [
    "## 5.1. Prediction by `LogisticRegression`"
   ]
  },
  {
   "cell_type": "code",
   "execution_count": 43,
   "id": "fc5fcf3e",
   "metadata": {
    "papermill": {
     "duration": 0.130828,
     "end_time": "2023-02-24T05:13:43.368421",
     "exception": false,
     "start_time": "2023-02-24T05:13:43.237593",
     "status": "completed"
    },
    "tags": []
   },
   "outputs": [],
   "source": [
    "pipe_lr.fit(X_train, y_train)\n",
    "lr_prediction = pipe_lr.predict(X_test)\n",
    "\n",
    "prediction_by_lr = pd.DataFrame(\n",
    "    {\"PassengerId\": X_test.index, \"Survived\": lr_prediction}\n",
    ")"
   ]
  },
  {
   "cell_type": "code",
   "execution_count": 44,
   "id": "8f8caf6c",
   "metadata": {
    "papermill": {
     "duration": 0.047118,
     "end_time": "2023-02-24T05:13:43.447496",
     "exception": false,
     "start_time": "2023-02-24T05:13:43.400378",
     "status": "completed"
    },
    "tags": []
   },
   "outputs": [
    {
     "data": {
      "text/html": [
       "<div>\n",
       "<style scoped>\n",
       "    .dataframe tbody tr th:only-of-type {\n",
       "        vertical-align: middle;\n",
       "    }\n",
       "\n",
       "    .dataframe tbody tr th {\n",
       "        vertical-align: top;\n",
       "    }\n",
       "\n",
       "    .dataframe thead th {\n",
       "        text-align: right;\n",
       "    }\n",
       "</style>\n",
       "<table border=\"1\" class=\"dataframe\">\n",
       "  <thead>\n",
       "    <tr style=\"text-align: right;\">\n",
       "      <th></th>\n",
       "      <th>PassengerId</th>\n",
       "      <th>Survived</th>\n",
       "    </tr>\n",
       "  </thead>\n",
       "  <tbody>\n",
       "    <tr>\n",
       "      <th>0</th>\n",
       "      <td>892</td>\n",
       "      <td>0</td>\n",
       "    </tr>\n",
       "    <tr>\n",
       "      <th>1</th>\n",
       "      <td>893</td>\n",
       "      <td>1</td>\n",
       "    </tr>\n",
       "    <tr>\n",
       "      <th>2</th>\n",
       "      <td>894</td>\n",
       "      <td>0</td>\n",
       "    </tr>\n",
       "    <tr>\n",
       "      <th>3</th>\n",
       "      <td>895</td>\n",
       "      <td>0</td>\n",
       "    </tr>\n",
       "    <tr>\n",
       "      <th>4</th>\n",
       "      <td>896</td>\n",
       "      <td>1</td>\n",
       "    </tr>\n",
       "  </tbody>\n",
       "</table>\n",
       "</div>"
      ],
      "text/plain": [
       "   PassengerId  Survived\n",
       "0          892         0\n",
       "1          893         1\n",
       "2          894         0\n",
       "3          895         0\n",
       "4          896         1"
      ]
     },
     "execution_count": 44,
     "metadata": {},
     "output_type": "execute_result"
    }
   ],
   "source": [
    "prediction_by_lr.head()"
   ]
  },
  {
   "cell_type": "code",
   "execution_count": 45,
   "id": "3eae1bf6",
   "metadata": {
    "papermill": {
     "duration": 0.046854,
     "end_time": "2023-02-24T05:13:43.527604",
     "exception": false,
     "start_time": "2023-02-24T05:13:43.480750",
     "status": "completed"
    },
    "tags": []
   },
   "outputs": [],
   "source": [
    "prediction_by_lr.to_csv(\"prediction_by_lr_20230224.csv\", index=False)"
   ]
  },
  {
   "cell_type": "markdown",
   "id": "194ffa81",
   "metadata": {
    "papermill": {
     "duration": 0.032181,
     "end_time": "2023-02-24T05:13:43.591938",
     "exception": false,
     "start_time": "2023-02-24T05:13:43.559757",
     "status": "completed"
    },
    "tags": []
   },
   "source": [
    "### Kaggle Score: 0.78229"
   ]
  },
  {
   "cell_type": "markdown",
   "id": "57b849aa",
   "metadata": {
    "papermill": {
     "duration": 0.031809,
     "end_time": "2023-02-24T05:13:43.656152",
     "exception": false,
     "start_time": "2023-02-24T05:13:43.624343",
     "status": "completed"
    },
    "tags": []
   },
   "source": [
    "## 5.2. Prediction by `CatBoost`"
   ]
  },
  {
   "cell_type": "code",
   "execution_count": 46,
   "id": "a2a8975a",
   "metadata": {
    "papermill": {
     "duration": 3.889231,
     "end_time": "2023-02-24T05:13:47.577477",
     "exception": false,
     "start_time": "2023-02-24T05:13:43.688246",
     "status": "completed"
    },
    "tags": []
   },
   "outputs": [],
   "source": [
    "pipe_catb.fit(X_train, y_train)\n",
    "catb_prediction = pipe_catb.predict(X_test)\n",
    "\n",
    "prediction_by_catb = pd.DataFrame(\n",
    "    {\"PassengerId\": X_test.index, \"Survived\": catb_prediction}\n",
    ")"
   ]
  },
  {
   "cell_type": "code",
   "execution_count": 47,
   "id": "b3144a33",
   "metadata": {
    "papermill": {
     "duration": 0.046232,
     "end_time": "2023-02-24T05:13:47.657805",
     "exception": false,
     "start_time": "2023-02-24T05:13:47.611573",
     "status": "completed"
    },
    "tags": []
   },
   "outputs": [
    {
     "data": {
      "text/html": [
       "<div>\n",
       "<style scoped>\n",
       "    .dataframe tbody tr th:only-of-type {\n",
       "        vertical-align: middle;\n",
       "    }\n",
       "\n",
       "    .dataframe tbody tr th {\n",
       "        vertical-align: top;\n",
       "    }\n",
       "\n",
       "    .dataframe thead th {\n",
       "        text-align: right;\n",
       "    }\n",
       "</style>\n",
       "<table border=\"1\" class=\"dataframe\">\n",
       "  <thead>\n",
       "    <tr style=\"text-align: right;\">\n",
       "      <th></th>\n",
       "      <th>PassengerId</th>\n",
       "      <th>Survived</th>\n",
       "    </tr>\n",
       "  </thead>\n",
       "  <tbody>\n",
       "    <tr>\n",
       "      <th>0</th>\n",
       "      <td>892</td>\n",
       "      <td>0</td>\n",
       "    </tr>\n",
       "    <tr>\n",
       "      <th>1</th>\n",
       "      <td>893</td>\n",
       "      <td>0</td>\n",
       "    </tr>\n",
       "    <tr>\n",
       "      <th>2</th>\n",
       "      <td>894</td>\n",
       "      <td>0</td>\n",
       "    </tr>\n",
       "    <tr>\n",
       "      <th>3</th>\n",
       "      <td>895</td>\n",
       "      <td>0</td>\n",
       "    </tr>\n",
       "    <tr>\n",
       "      <th>4</th>\n",
       "      <td>896</td>\n",
       "      <td>1</td>\n",
       "    </tr>\n",
       "  </tbody>\n",
       "</table>\n",
       "</div>"
      ],
      "text/plain": [
       "   PassengerId  Survived\n",
       "0          892         0\n",
       "1          893         0\n",
       "2          894         0\n",
       "3          895         0\n",
       "4          896         1"
      ]
     },
     "execution_count": 47,
     "metadata": {},
     "output_type": "execute_result"
    }
   ],
   "source": [
    "prediction_by_catb.head()"
   ]
  },
  {
   "cell_type": "code",
   "execution_count": 48,
   "id": "e6436781",
   "metadata": {
    "papermill": {
     "duration": 0.064537,
     "end_time": "2023-02-24T05:13:47.764821",
     "exception": false,
     "start_time": "2023-02-24T05:13:47.700284",
     "status": "completed"
    },
    "tags": []
   },
   "outputs": [],
   "source": [
    "prediction_by_catb.to_csv(\"prediction_by_catb_20230224.csv\", index=False)"
   ]
  },
  {
   "cell_type": "markdown",
   "id": "f8fd5b93",
   "metadata": {
    "papermill": {
     "duration": 0.033062,
     "end_time": "2023-02-24T05:13:47.839823",
     "exception": false,
     "start_time": "2023-02-24T05:13:47.806761",
     "status": "completed"
    },
    "tags": []
   },
   "source": [
    "### Kaggle Score: 0.76794"
   ]
  },
  {
   "cell_type": "markdown",
   "id": "38f4737a",
   "metadata": {
    "papermill": {
     "duration": 0.032795,
     "end_time": "2023-02-24T05:13:47.906058",
     "exception": false,
     "start_time": "2023-02-24T05:13:47.873263",
     "status": "completed"
    },
    "tags": []
   },
   "source": [
    "## 5.3. Prediction by `RandomForest`"
   ]
  },
  {
   "cell_type": "code",
   "execution_count": 49,
   "id": "3fc566d9",
   "metadata": {
    "papermill": {
     "duration": 0.488566,
     "end_time": "2023-02-24T05:13:48.427958",
     "exception": false,
     "start_time": "2023-02-24T05:13:47.939392",
     "status": "completed"
    },
    "tags": []
   },
   "outputs": [],
   "source": [
    "pipe_rf.fit(X_train, y_train)\n",
    "rf_prediction = pipe_rf.predict(X_test)\n",
    "\n",
    "prediction_by_rf = pd.DataFrame(\n",
    "    {\"PassengerId\": X_test.index, \"Survived\": rf_prediction}\n",
    ")"
   ]
  },
  {
   "cell_type": "code",
   "execution_count": 50,
   "id": "9b34590f",
   "metadata": {
    "papermill": {
     "duration": 0.047605,
     "end_time": "2023-02-24T05:13:48.508584",
     "exception": false,
     "start_time": "2023-02-24T05:13:48.460979",
     "status": "completed"
    },
    "tags": []
   },
   "outputs": [
    {
     "data": {
      "text/html": [
       "<div>\n",
       "<style scoped>\n",
       "    .dataframe tbody tr th:only-of-type {\n",
       "        vertical-align: middle;\n",
       "    }\n",
       "\n",
       "    .dataframe tbody tr th {\n",
       "        vertical-align: top;\n",
       "    }\n",
       "\n",
       "    .dataframe thead th {\n",
       "        text-align: right;\n",
       "    }\n",
       "</style>\n",
       "<table border=\"1\" class=\"dataframe\">\n",
       "  <thead>\n",
       "    <tr style=\"text-align: right;\">\n",
       "      <th></th>\n",
       "      <th>PassengerId</th>\n",
       "      <th>Survived</th>\n",
       "    </tr>\n",
       "  </thead>\n",
       "  <tbody>\n",
       "    <tr>\n",
       "      <th>0</th>\n",
       "      <td>892</td>\n",
       "      <td>0</td>\n",
       "    </tr>\n",
       "    <tr>\n",
       "      <th>1</th>\n",
       "      <td>893</td>\n",
       "      <td>0</td>\n",
       "    </tr>\n",
       "    <tr>\n",
       "      <th>2</th>\n",
       "      <td>894</td>\n",
       "      <td>0</td>\n",
       "    </tr>\n",
       "    <tr>\n",
       "      <th>3</th>\n",
       "      <td>895</td>\n",
       "      <td>0</td>\n",
       "    </tr>\n",
       "    <tr>\n",
       "      <th>4</th>\n",
       "      <td>896</td>\n",
       "      <td>1</td>\n",
       "    </tr>\n",
       "  </tbody>\n",
       "</table>\n",
       "</div>"
      ],
      "text/plain": [
       "   PassengerId  Survived\n",
       "0          892         0\n",
       "1          893         0\n",
       "2          894         0\n",
       "3          895         0\n",
       "4          896         1"
      ]
     },
     "execution_count": 50,
     "metadata": {},
     "output_type": "execute_result"
    }
   ],
   "source": [
    "prediction_by_rf.head()"
   ]
  },
  {
   "cell_type": "code",
   "execution_count": 51,
   "id": "84c4530b",
   "metadata": {
    "papermill": {
     "duration": 0.045731,
     "end_time": "2023-02-24T05:13:48.586597",
     "exception": false,
     "start_time": "2023-02-24T05:13:48.540866",
     "status": "completed"
    },
    "tags": []
   },
   "outputs": [],
   "source": [
    "prediction_by_rf.to_csv(\"prediction_by_rf_20230224.csv\", index=False)"
   ]
  },
  {
   "cell_type": "markdown",
   "id": "d8026fe9",
   "metadata": {
    "papermill": {
     "duration": 0.031881,
     "end_time": "2023-02-24T05:13:48.651235",
     "exception": false,
     "start_time": "2023-02-24T05:13:48.619354",
     "status": "completed"
    },
    "tags": []
   },
   "source": [
    "### Kaggle Score: 0.77511"
   ]
  },
  {
   "cell_type": "markdown",
   "id": "2e2d1a7a",
   "metadata": {
    "papermill": {
     "duration": 0.032147,
     "end_time": "2023-02-24T05:13:48.715994",
     "exception": false,
     "start_time": "2023-02-24T05:13:48.683847",
     "status": "completed"
    },
    "tags": []
   },
   "source": [
    "## 5.4. Prediction by `SVC`"
   ]
  },
  {
   "cell_type": "code",
   "execution_count": 52,
   "id": "a4298d13",
   "metadata": {
    "papermill": {
     "duration": 0.161897,
     "end_time": "2023-02-24T05:13:48.911128",
     "exception": false,
     "start_time": "2023-02-24T05:13:48.749231",
     "status": "completed"
    },
    "tags": []
   },
   "outputs": [],
   "source": [
    "pipe_svc.fit(X_train, y_train)\n",
    "svc_prediction = pipe_svc.predict(X_test)\n",
    "\n",
    "prediction_by_svc = pd.DataFrame(\n",
    "    {\"PassengerId\": X_test.index, \"Survived\": svc_prediction}\n",
    ")"
   ]
  },
  {
   "cell_type": "code",
   "execution_count": 53,
   "id": "3fcae581",
   "metadata": {
    "papermill": {
     "duration": 0.051143,
     "end_time": "2023-02-24T05:13:48.996922",
     "exception": false,
     "start_time": "2023-02-24T05:13:48.945779",
     "status": "completed"
    },
    "tags": []
   },
   "outputs": [
    {
     "data": {
      "text/html": [
       "<div>\n",
       "<style scoped>\n",
       "    .dataframe tbody tr th:only-of-type {\n",
       "        vertical-align: middle;\n",
       "    }\n",
       "\n",
       "    .dataframe tbody tr th {\n",
       "        vertical-align: top;\n",
       "    }\n",
       "\n",
       "    .dataframe thead th {\n",
       "        text-align: right;\n",
       "    }\n",
       "</style>\n",
       "<table border=\"1\" class=\"dataframe\">\n",
       "  <thead>\n",
       "    <tr style=\"text-align: right;\">\n",
       "      <th></th>\n",
       "      <th>PassengerId</th>\n",
       "      <th>Survived</th>\n",
       "    </tr>\n",
       "  </thead>\n",
       "  <tbody>\n",
       "    <tr>\n",
       "      <th>0</th>\n",
       "      <td>892</td>\n",
       "      <td>0</td>\n",
       "    </tr>\n",
       "    <tr>\n",
       "      <th>1</th>\n",
       "      <td>893</td>\n",
       "      <td>1</td>\n",
       "    </tr>\n",
       "    <tr>\n",
       "      <th>2</th>\n",
       "      <td>894</td>\n",
       "      <td>0</td>\n",
       "    </tr>\n",
       "    <tr>\n",
       "      <th>3</th>\n",
       "      <td>895</td>\n",
       "      <td>0</td>\n",
       "    </tr>\n",
       "    <tr>\n",
       "      <th>4</th>\n",
       "      <td>896</td>\n",
       "      <td>1</td>\n",
       "    </tr>\n",
       "  </tbody>\n",
       "</table>\n",
       "</div>"
      ],
      "text/plain": [
       "   PassengerId  Survived\n",
       "0          892         0\n",
       "1          893         1\n",
       "2          894         0\n",
       "3          895         0\n",
       "4          896         1"
      ]
     },
     "execution_count": 53,
     "metadata": {},
     "output_type": "execute_result"
    }
   ],
   "source": [
    "prediction_by_svc.head()"
   ]
  },
  {
   "cell_type": "code",
   "execution_count": 54,
   "id": "a2a1adf7",
   "metadata": {
    "papermill": {
     "duration": 0.047797,
     "end_time": "2023-02-24T05:13:49.078691",
     "exception": false,
     "start_time": "2023-02-24T05:13:49.030894",
     "status": "completed"
    },
    "tags": []
   },
   "outputs": [],
   "source": [
    "prediction_by_svc.to_csv(\"prediction_by_svc_20230224.csv\", index=False)"
   ]
  },
  {
   "cell_type": "markdown",
   "id": "822a30dd",
   "metadata": {
    "papermill": {
     "duration": 0.033812,
     "end_time": "2023-02-24T05:13:49.147630",
     "exception": false,
     "start_time": "2023-02-24T05:13:49.113818",
     "status": "completed"
    },
    "tags": []
   },
   "source": [
    "### Kaggle Score: 0.7799"
   ]
  },
  {
   "cell_type": "markdown",
   "id": "9747bbda",
   "metadata": {
    "papermill": {
     "duration": 0.034765,
     "end_time": "2023-02-24T05:13:49.216656",
     "exception": false,
     "start_time": "2023-02-24T05:13:49.181891",
     "status": "completed"
    },
    "tags": []
   },
   "source": [
    "## 5.5. Prediction by `DecisionTree`"
   ]
  },
  {
   "cell_type": "code",
   "execution_count": 55,
   "id": "b0e3b382",
   "metadata": {
    "papermill": {
     "duration": 0.105347,
     "end_time": "2023-02-24T05:13:49.356624",
     "exception": false,
     "start_time": "2023-02-24T05:13:49.251277",
     "status": "completed"
    },
    "tags": []
   },
   "outputs": [],
   "source": [
    "pipe_dt.fit(X_train, y_train)\n",
    "dt_prediction = pipe_dt.predict(X_test)\n",
    "\n",
    "prediction_by_dt = pd.DataFrame(\n",
    "    {\"PassengerId\": X_test.index, \"Survived\": dt_prediction}\n",
    ")"
   ]
  },
  {
   "cell_type": "code",
   "execution_count": 56,
   "id": "22b64558",
   "metadata": {
    "papermill": {
     "duration": 0.052556,
     "end_time": "2023-02-24T05:13:49.442044",
     "exception": false,
     "start_time": "2023-02-24T05:13:49.389488",
     "status": "completed"
    },
    "tags": []
   },
   "outputs": [
    {
     "data": {
      "text/html": [
       "<div>\n",
       "<style scoped>\n",
       "    .dataframe tbody tr th:only-of-type {\n",
       "        vertical-align: middle;\n",
       "    }\n",
       "\n",
       "    .dataframe tbody tr th {\n",
       "        vertical-align: top;\n",
       "    }\n",
       "\n",
       "    .dataframe thead th {\n",
       "        text-align: right;\n",
       "    }\n",
       "</style>\n",
       "<table border=\"1\" class=\"dataframe\">\n",
       "  <thead>\n",
       "    <tr style=\"text-align: right;\">\n",
       "      <th></th>\n",
       "      <th>PassengerId</th>\n",
       "      <th>Survived</th>\n",
       "    </tr>\n",
       "  </thead>\n",
       "  <tbody>\n",
       "    <tr>\n",
       "      <th>0</th>\n",
       "      <td>892</td>\n",
       "      <td>0</td>\n",
       "    </tr>\n",
       "    <tr>\n",
       "      <th>1</th>\n",
       "      <td>893</td>\n",
       "      <td>1</td>\n",
       "    </tr>\n",
       "    <tr>\n",
       "      <th>2</th>\n",
       "      <td>894</td>\n",
       "      <td>0</td>\n",
       "    </tr>\n",
       "    <tr>\n",
       "      <th>3</th>\n",
       "      <td>895</td>\n",
       "      <td>0</td>\n",
       "    </tr>\n",
       "    <tr>\n",
       "      <th>4</th>\n",
       "      <td>896</td>\n",
       "      <td>1</td>\n",
       "    </tr>\n",
       "  </tbody>\n",
       "</table>\n",
       "</div>"
      ],
      "text/plain": [
       "   PassengerId  Survived\n",
       "0          892         0\n",
       "1          893         1\n",
       "2          894         0\n",
       "3          895         0\n",
       "4          896         1"
      ]
     },
     "execution_count": 56,
     "metadata": {},
     "output_type": "execute_result"
    }
   ],
   "source": [
    "prediction_by_dt.head()"
   ]
  },
  {
   "cell_type": "code",
   "execution_count": 57,
   "id": "dd2f8be6",
   "metadata": {
    "papermill": {
     "duration": 0.045882,
     "end_time": "2023-02-24T05:13:49.521115",
     "exception": false,
     "start_time": "2023-02-24T05:13:49.475233",
     "status": "completed"
    },
    "tags": []
   },
   "outputs": [],
   "source": [
    "prediction_by_dt.to_csv(\"prediction_by_dt_20230224.csv\", index=False)"
   ]
  },
  {
   "cell_type": "markdown",
   "id": "d498ea25",
   "metadata": {
    "papermill": {
     "duration": 0.034263,
     "end_time": "2023-02-24T05:13:49.590977",
     "exception": false,
     "start_time": "2023-02-24T05:13:49.556714",
     "status": "completed"
    },
    "tags": []
   },
   "source": [
    "### Kaggle Score: 0.77033"
   ]
  },
  {
   "cell_type": "markdown",
   "id": "1103849b",
   "metadata": {
    "papermill": {
     "duration": 0.033487,
     "end_time": "2023-02-24T05:13:49.658535",
     "exception": false,
     "start_time": "2023-02-24T05:13:49.625048",
     "status": "completed"
    },
    "tags": []
   },
   "source": [
    "## 5.6. Prediction by Ensemble"
   ]
  },
  {
   "cell_type": "code",
   "execution_count": 58,
   "id": "7d358402",
   "metadata": {
    "papermill": {
     "duration": 0.045513,
     "end_time": "2023-02-24T05:13:49.738855",
     "exception": false,
     "start_time": "2023-02-24T05:13:49.693342",
     "status": "completed"
    },
    "tags": []
   },
   "outputs": [],
   "source": [
    "predictions = pd.DataFrame(\n",
    "    {\n",
    "        \"PassengerId\": X_test.index,\n",
    "        \"lr_prediction\": lr_prediction,\n",
    "        \"catb_prediction\": catb_prediction,\n",
    "        \"rf_prediction\": rf_prediction,\n",
    "        \"svc_prediction\": svc_prediction,\n",
    "        \"dt_prediction\": dt_prediction,\n",
    "    }\n",
    ")"
   ]
  },
  {
   "cell_type": "code",
   "execution_count": 59,
   "id": "c8e450fa",
   "metadata": {
    "papermill": {
     "duration": 0.052286,
     "end_time": "2023-02-24T05:13:49.825711",
     "exception": false,
     "start_time": "2023-02-24T05:13:49.773425",
     "status": "completed"
    },
    "tags": []
   },
   "outputs": [
    {
     "data": {
      "text/html": [
       "<div>\n",
       "<style scoped>\n",
       "    .dataframe tbody tr th:only-of-type {\n",
       "        vertical-align: middle;\n",
       "    }\n",
       "\n",
       "    .dataframe tbody tr th {\n",
       "        vertical-align: top;\n",
       "    }\n",
       "\n",
       "    .dataframe thead th {\n",
       "        text-align: right;\n",
       "    }\n",
       "</style>\n",
       "<table border=\"1\" class=\"dataframe\">\n",
       "  <thead>\n",
       "    <tr style=\"text-align: right;\">\n",
       "      <th></th>\n",
       "      <th>PassengerId</th>\n",
       "      <th>lr_prediction</th>\n",
       "      <th>catb_prediction</th>\n",
       "      <th>rf_prediction</th>\n",
       "      <th>svc_prediction</th>\n",
       "      <th>dt_prediction</th>\n",
       "    </tr>\n",
       "  </thead>\n",
       "  <tbody>\n",
       "    <tr>\n",
       "      <th>0</th>\n",
       "      <td>892</td>\n",
       "      <td>0</td>\n",
       "      <td>0</td>\n",
       "      <td>0</td>\n",
       "      <td>0</td>\n",
       "      <td>0</td>\n",
       "    </tr>\n",
       "    <tr>\n",
       "      <th>1</th>\n",
       "      <td>893</td>\n",
       "      <td>1</td>\n",
       "      <td>0</td>\n",
       "      <td>0</td>\n",
       "      <td>1</td>\n",
       "      <td>1</td>\n",
       "    </tr>\n",
       "    <tr>\n",
       "      <th>2</th>\n",
       "      <td>894</td>\n",
       "      <td>0</td>\n",
       "      <td>0</td>\n",
       "      <td>0</td>\n",
       "      <td>0</td>\n",
       "      <td>0</td>\n",
       "    </tr>\n",
       "    <tr>\n",
       "      <th>3</th>\n",
       "      <td>895</td>\n",
       "      <td>0</td>\n",
       "      <td>0</td>\n",
       "      <td>0</td>\n",
       "      <td>0</td>\n",
       "      <td>0</td>\n",
       "    </tr>\n",
       "    <tr>\n",
       "      <th>4</th>\n",
       "      <td>896</td>\n",
       "      <td>1</td>\n",
       "      <td>1</td>\n",
       "      <td>1</td>\n",
       "      <td>1</td>\n",
       "      <td>1</td>\n",
       "    </tr>\n",
       "  </tbody>\n",
       "</table>\n",
       "</div>"
      ],
      "text/plain": [
       "   PassengerId  lr_prediction  catb_prediction  rf_prediction  svc_prediction  \\\n",
       "0          892              0                0              0               0   \n",
       "1          893              1                0              0               1   \n",
       "2          894              0                0              0               0   \n",
       "3          895              0                0              0               0   \n",
       "4          896              1                1              1               1   \n",
       "\n",
       "   dt_prediction  \n",
       "0              0  \n",
       "1              1  \n",
       "2              0  \n",
       "3              0  \n",
       "4              1  "
      ]
     },
     "execution_count": 59,
     "metadata": {},
     "output_type": "execute_result"
    }
   ],
   "source": [
    "predictions.head()"
   ]
  },
  {
   "cell_type": "code",
   "execution_count": 60,
   "id": "9406eb97",
   "metadata": {
    "papermill": {
     "duration": 0.410698,
     "end_time": "2023-02-24T05:13:50.270277",
     "exception": false,
     "start_time": "2023-02-24T05:13:49.859579",
     "status": "completed"
    },
    "tags": []
   },
   "outputs": [
    {
     "data": {
      "text/plain": [
       "<AxesSubplot: >"
      ]
     },
     "execution_count": 60,
     "metadata": {},
     "output_type": "execute_result"
    },
    {
     "data": {
      "image/png": "[encoded data removed]",
      "text/plain": [
       "<Figure size 640x480 with 2 Axes>"
      ]
     },
     "metadata": {},
     "output_type": "display_data"
    }
   ],
   "source": [
    "sns.heatmap(predictions.corr())"
   ]
  },
  {
   "cell_type": "code",
   "execution_count": 61,
   "id": "cfbef7a4",
   "metadata": {
    "papermill": {
     "duration": 0.057799,
     "end_time": "2023-02-24T05:13:50.363976",
     "exception": false,
     "start_time": "2023-02-24T05:13:50.306177",
     "status": "completed"
    },
    "tags": []
   },
   "outputs": [
    {
     "data": {
      "text/html": [
       "<div>\n",
       "<style scoped>\n",
       "    .dataframe tbody tr th:only-of-type {\n",
       "        vertical-align: middle;\n",
       "    }\n",
       "\n",
       "    .dataframe tbody tr th {\n",
       "        vertical-align: top;\n",
       "    }\n",
       "\n",
       "    .dataframe thead th {\n",
       "        text-align: right;\n",
       "    }\n",
       "</style>\n",
       "<table border=\"1\" class=\"dataframe\">\n",
       "  <thead>\n",
       "    <tr style=\"text-align: right;\">\n",
       "      <th></th>\n",
       "      <th>PassengerId</th>\n",
       "      <th>lr_prediction</th>\n",
       "      <th>catb_prediction</th>\n",
       "      <th>rf_prediction</th>\n",
       "      <th>svc_prediction</th>\n",
       "      <th>dt_prediction</th>\n",
       "      <th>Sum</th>\n",
       "      <th>Survived</th>\n",
       "    </tr>\n",
       "  </thead>\n",
       "  <tbody>\n",
       "    <tr>\n",
       "      <th>0</th>\n",
       "      <td>892</td>\n",
       "      <td>0</td>\n",
       "      <td>0</td>\n",
       "      <td>0</td>\n",
       "      <td>0</td>\n",
       "      <td>0</td>\n",
       "      <td>0</td>\n",
       "      <td>0</td>\n",
       "    </tr>\n",
       "    <tr>\n",
       "      <th>1</th>\n",
       "      <td>893</td>\n",
       "      <td>1</td>\n",
       "      <td>0</td>\n",
       "      <td>0</td>\n",
       "      <td>1</td>\n",
       "      <td>1</td>\n",
       "      <td>3</td>\n",
       "      <td>1</td>\n",
       "    </tr>\n",
       "    <tr>\n",
       "      <th>2</th>\n",
       "      <td>894</td>\n",
       "      <td>0</td>\n",
       "      <td>0</td>\n",
       "      <td>0</td>\n",
       "      <td>0</td>\n",
       "      <td>0</td>\n",
       "      <td>0</td>\n",
       "      <td>0</td>\n",
       "    </tr>\n",
       "    <tr>\n",
       "      <th>3</th>\n",
       "      <td>895</td>\n",
       "      <td>0</td>\n",
       "      <td>0</td>\n",
       "      <td>0</td>\n",
       "      <td>0</td>\n",
       "      <td>0</td>\n",
       "      <td>0</td>\n",
       "      <td>0</td>\n",
       "    </tr>\n",
       "    <tr>\n",
       "      <th>4</th>\n",
       "      <td>896</td>\n",
       "      <td>1</td>\n",
       "      <td>1</td>\n",
       "      <td>1</td>\n",
       "      <td>1</td>\n",
       "      <td>1</td>\n",
       "      <td>5</td>\n",
       "      <td>1</td>\n",
       "    </tr>\n",
       "  </tbody>\n",
       "</table>\n",
       "</div>"
      ],
      "text/plain": [
       "   PassengerId  lr_prediction  catb_prediction  rf_prediction  svc_prediction  \\\n",
       "0          892              0                0              0               0   \n",
       "1          893              1                0              0               1   \n",
       "2          894              0                0              0               0   \n",
       "3          895              0                0              0               0   \n",
       "4          896              1                1              1               1   \n",
       "\n",
       "   dt_prediction  Sum  Survived  \n",
       "0              0    0         0  \n",
       "1              1    3         1  \n",
       "2              0    0         0  \n",
       "3              0    0         0  \n",
       "4              1    5         1  "
      ]
     },
     "execution_count": 61,
     "metadata": {},
     "output_type": "execute_result"
    }
   ],
   "source": [
    "predictions[\"Sum\"] = predictions.iloc[:, 1:].sum(axis=1)\n",
    "predictions[\"Survived\"] = predictions[\"Sum\"]//3\n",
    "predictions.head()"
   ]
  },
  {
   "cell_type": "code",
   "execution_count": 62,
   "id": "4de7801a",
   "metadata": {
    "papermill": {
     "duration": 0.050698,
     "end_time": "2023-02-24T05:13:50.448714",
     "exception": false,
     "start_time": "2023-02-24T05:13:50.398016",
     "status": "completed"
    },
    "tags": []
   },
   "outputs": [
    {
     "data": {
      "text/html": [
       "<div>\n",
       "<style scoped>\n",
       "    .dataframe tbody tr th:only-of-type {\n",
       "        vertical-align: middle;\n",
       "    }\n",
       "\n",
       "    .dataframe tbody tr th {\n",
       "        vertical-align: top;\n",
       "    }\n",
       "\n",
       "    .dataframe thead th {\n",
       "        text-align: right;\n",
       "    }\n",
       "</style>\n",
       "<table border=\"1\" class=\"dataframe\">\n",
       "  <thead>\n",
       "    <tr style=\"text-align: right;\">\n",
       "      <th></th>\n",
       "      <th>PassengerId</th>\n",
       "      <th>Survived</th>\n",
       "    </tr>\n",
       "  </thead>\n",
       "  <tbody>\n",
       "    <tr>\n",
       "      <th>0</th>\n",
       "      <td>892</td>\n",
       "      <td>0</td>\n",
       "    </tr>\n",
       "    <tr>\n",
       "      <th>1</th>\n",
       "      <td>893</td>\n",
       "      <td>1</td>\n",
       "    </tr>\n",
       "    <tr>\n",
       "      <th>2</th>\n",
       "      <td>894</td>\n",
       "      <td>0</td>\n",
       "    </tr>\n",
       "    <tr>\n",
       "      <th>3</th>\n",
       "      <td>895</td>\n",
       "      <td>0</td>\n",
       "    </tr>\n",
       "    <tr>\n",
       "      <th>4</th>\n",
       "      <td>896</td>\n",
       "      <td>1</td>\n",
       "    </tr>\n",
       "  </tbody>\n",
       "</table>\n",
       "</div>"
      ],
      "text/plain": [
       "   PassengerId  Survived\n",
       "0          892         0\n",
       "1          893         1\n",
       "2          894         0\n",
       "3          895         0\n",
       "4          896         1"
      ]
     },
     "execution_count": 62,
     "metadata": {},
     "output_type": "execute_result"
    }
   ],
   "source": [
    "prediction_by_ensemble = predictions[[\"PassengerId\", \"Survived\"]]\n",
    "prediction_by_ensemble.head()"
   ]
  },
  {
   "cell_type": "code",
   "execution_count": 63,
   "id": "931ea963",
   "metadata": {
    "papermill": {
     "duration": 0.04634,
     "end_time": "2023-02-24T05:13:50.529525",
     "exception": false,
     "start_time": "2023-02-24T05:13:50.483185",
     "status": "completed"
    },
    "tags": []
   },
   "outputs": [],
   "source": [
    "prediction_by_ensemble.to_csv(\"prediction_by_ensemble_20230224.csv\", index=False)"
   ]
  },
  {
   "cell_type": "markdown",
   "id": "2e217273",
   "metadata": {
    "papermill": {
     "duration": 0.033997,
     "end_time": "2023-02-24T05:13:50.597598",
     "exception": false,
     "start_time": "2023-02-24T05:13:50.563601",
     "status": "completed"
    },
    "tags": []
   },
   "source": [
    "### Kaggle Score: 0.77511"
   ]
  },
  {
   "cell_type": "markdown",
   "id": "8fcc8873",
   "metadata": {
    "papermill": {
     "duration": 0.0342,
     "end_time": "2023-02-24T05:13:50.665840",
     "exception": false,
     "start_time": "2023-02-24T05:13:50.631640",
     "status": "completed"
    },
    "tags": []
   },
   "source": [
    "# 6. Hyperparameter Tunning of `LogisticRegression`"
   ]
  },
  {
   "cell_type": "markdown",
   "id": "86d20957",
   "metadata": {
    "papermill": {
     "duration": 0.034004,
     "end_time": "2023-02-24T05:13:50.734240",
     "exception": false,
     "start_time": "2023-02-24T05:13:50.700236",
     "status": "completed"
    },
    "tags": []
   },
   "source": [
    "## 6.1. Grid Search"
   ]
  },
  {
   "cell_type": "code",
   "execution_count": 64,
   "id": "3b5cd3bb",
   "metadata": {
    "papermill": {
     "duration": 0.072002,
     "end_time": "2023-02-24T05:13:50.840857",
     "exception": false,
     "start_time": "2023-02-24T05:13:50.768855",
     "status": "completed"
    },
    "tags": []
   },
   "outputs": [],
   "source": [
    "# preprocessing\n",
    "\n",
    "X_train_enc = ct.fit_transform(X_train)"
   ]
  },
  {
   "cell_type": "code",
   "execution_count": 65,
   "id": "cc360827",
   "metadata": {
    "papermill": {
     "duration": 0.045828,
     "end_time": "2023-02-24T05:13:50.921283",
     "exception": false,
     "start_time": "2023-02-24T05:13:50.875455",
     "status": "completed"
    },
    "tags": []
   },
   "outputs": [],
   "source": [
    "lr_model = LogisticRegression(random_state=123, max_iter=5000)  # max_iter=5000 to prevent warning"
   ]
  },
  {
   "cell_type": "code",
   "execution_count": 66,
   "id": "bbf2e7cd",
   "metadata": {
    "papermill": {
     "duration": 0.04697,
     "end_time": "2023-02-24T05:13:51.003058",
     "exception": false,
     "start_time": "2023-02-24T05:13:50.956088",
     "status": "completed"
    },
    "tags": []
   },
   "outputs": [],
   "source": [
    "grid = dict(\n",
    "    solver=['newton-cg', 'lbfgs', 'liblinear'],\n",
    "    C=uniform(loc=0, scale=4),\n",
    "    penalty=['l2', 'l1'])"
   ]
  },
  {
   "cell_type": "code",
   "execution_count": 67,
   "id": "fcd62e46",
   "metadata": {
    "papermill": {
     "duration": 0.046692,
     "end_time": "2023-02-24T05:13:51.085702",
     "exception": false,
     "start_time": "2023-02-24T05:13:51.039010",
     "status": "completed"
    },
    "tags": []
   },
   "outputs": [],
   "source": [
    "clf = RandomizedSearchCV(\n",
    "    estimator=lr_model, \n",
    "    param_distributions=grid, \n",
    "    random_state=123\n",
    ")"
   ]
  },
  {
   "cell_type": "code",
   "execution_count": 68,
   "id": "e9eaba5c",
   "metadata": {
    "papermill": {
     "duration": 1.409468,
     "end_time": "2023-02-24T05:13:52.530394",
     "exception": false,
     "start_time": "2023-02-24T05:13:51.120926",
     "status": "completed"
    },
    "tags": []
   },
   "outputs": [
    {
     "name": "stderr",
     "output_type": "stream",
     "text": [
      "C:\\Users\\johnw\\miniconda3\\envs\\ls_env\\lib\\site-packages\\sklearn\\model_selection\\_validation.py:378: FitFailedWarning: \n",
      "20 fits failed out of a total of 50.\n",
      "The score on these train-test partitions for these parameters will be set to nan.\n",
      "If these failures are not expected, you can try to debug them by setting error_score='raise'.\n",
      "\n",
      "Below are more details about the failures:\n",
      "--------------------------------------------------------------------------------\n",
      "10 fits failed with the following error:\n",
      "Traceback (most recent call last):\n",
      "  File \"C:\\Users\\johnw\\miniconda3\\envs\\ls_env\\lib\\site-packages\\sklearn\\model_selection\\_validation.py\", line 686, in _fit_and_score\n",
      "    estimator.fit(X_train, y_train, **fit_params)\n",
      "  File \"C:\\Users\\johnw\\miniconda3\\envs\\ls_env\\lib\\site-packages\\sklearn\\linear_model\\_logistic.py\", line 1162, in fit\n",
      "    solver = _check_solver(self.solver, self.penalty, self.dual)\n",
      "  File \"C:\\Users\\johnw\\miniconda3\\envs\\ls_env\\lib\\site-packages\\sklearn\\linear_model\\_logistic.py\", line 54, in _check_solver\n",
      "    raise ValueError(\n",
      "ValueError: Solver lbfgs supports only 'l2' or 'none' penalties, got l1 penalty.\n",
      "\n",
      "--------------------------------------------------------------------------------\n",
      "10 fits failed with the following error:\n",
      "Traceback (most recent call last):\n",
      "  File \"C:\\Users\\johnw\\miniconda3\\envs\\ls_env\\lib\\site-packages\\sklearn\\model_selection\\_validation.py\", line 686, in _fit_and_score\n",
      "    estimator.fit(X_train, y_train, **fit_params)\n",
      "  File \"C:\\Users\\johnw\\miniconda3\\envs\\ls_env\\lib\\site-packages\\sklearn\\linear_model\\_logistic.py\", line 1162, in fit\n",
      "    solver = _check_solver(self.solver, self.penalty, self.dual)\n",
      "  File \"C:\\Users\\johnw\\miniconda3\\envs\\ls_env\\lib\\site-packages\\sklearn\\linear_model\\_logistic.py\", line 54, in _check_solver\n",
      "    raise ValueError(\n",
      "ValueError: Solver newton-cg supports only 'l2' or 'none' penalties, got l1 penalty.\n",
      "\n",
      "  warnings.warn(some_fits_failed_message, FitFailedWarning)\n",
      "C:\\Users\\johnw\\miniconda3\\envs\\ls_env\\lib\\site-packages\\sklearn\\model_selection\\_search.py:953: UserWarning: One or more of the test scores are non-finite: [0.84395832 0.84060009        nan 0.84731028        nan        nan\n",
      "        nan 0.84171113 0.83947649 0.84058753]\n",
      "  warnings.warn(\n"
     ]
    }
   ],
   "source": [
    "search = clf.fit(X_train_enc, y_train)"
   ]
  },
  {
   "cell_type": "code",
   "execution_count": 69,
   "id": "0f8739fe",
   "metadata": {
    "papermill": {
     "duration": 0.047346,
     "end_time": "2023-02-24T05:13:52.612029",
     "exception": false,
     "start_time": "2023-02-24T05:13:52.564683",
     "status": "completed"
    },
    "tags": []
   },
   "outputs": [
    {
     "data": {
      "text/plain": [
       "{'C': 3.923056793538462, 'penalty': 'l2', 'solver': 'lbfgs'}"
      ]
     },
     "execution_count": 69,
     "metadata": {},
     "output_type": "execute_result"
    }
   ],
   "source": [
    "search.best_params_"
   ]
  },
  {
   "cell_type": "markdown",
   "id": "507d531c",
   "metadata": {
    "papermill": {
     "duration": 0.034398,
     "end_time": "2023-02-24T05:13:52.680897",
     "exception": false,
     "start_time": "2023-02-24T05:13:52.646499",
     "status": "completed"
    },
    "tags": []
   },
   "source": [
    "## 6.2. New Prediction"
   ]
  },
  {
   "cell_type": "code",
   "execution_count": 70,
   "id": "6d2d0c15",
   "metadata": {
    "papermill": {
     "duration": 0.046086,
     "end_time": "2023-02-24T05:13:52.761495",
     "exception": false,
     "start_time": "2023-02-24T05:13:52.715409",
     "status": "completed"
    },
    "tags": []
   },
   "outputs": [],
   "source": [
    "pipe_tuned_lr = make_pipeline(\n",
    "    ct, \n",
    "    LogisticRegression(\n",
    "        C=3.923056793538462,\n",
    "        penalty='l2',\n",
    "        solver='lbfgs',\n",
    "        max_iter=5000,\n",
    "        random_state=123\n",
    "    )\n",
    ")"
   ]
  },
  {
   "cell_type": "code",
   "execution_count": 71,
   "id": "632503ac",
   "metadata": {
    "papermill": {
     "duration": 0.157023,
     "end_time": "2023-02-24T05:13:52.953301",
     "exception": false,
     "start_time": "2023-02-24T05:13:52.796278",
     "status": "completed"
    },
    "tags": []
   },
   "outputs": [],
   "source": [
    "pipe_tuned_lr.fit(X_train, y_train)\n",
    "tuned_lr_prediction = pipe_tuned_lr.predict(X_test)\n",
    "\n",
    "prediction_by_tuned_lr = pd.DataFrame(\n",
    "    {\"PassengerId\": X_test.index, \"Survived\": tuned_lr_prediction}\n",
    ")"
   ]
  },
  {
   "cell_type": "code",
   "execution_count": 72,
   "id": "913d8314",
   "metadata": {
    "papermill": {
     "duration": 0.054614,
     "end_time": "2023-02-24T05:13:53.044639",
     "exception": false,
     "start_time": "2023-02-24T05:13:52.990025",
     "status": "completed"
    },
    "tags": []
   },
   "outputs": [
    {
     "data": {
      "text/html": [
       "<div>\n",
       "<style scoped>\n",
       "    .dataframe tbody tr th:only-of-type {\n",
       "        vertical-align: middle;\n",
       "    }\n",
       "\n",
       "    .dataframe tbody tr th {\n",
       "        vertical-align: top;\n",
       "    }\n",
       "\n",
       "    .dataframe thead th {\n",
       "        text-align: right;\n",
       "    }\n",
       "</style>\n",
       "<table border=\"1\" class=\"dataframe\">\n",
       "  <thead>\n",
       "    <tr style=\"text-align: right;\">\n",
       "      <th></th>\n",
       "      <th>PassengerId</th>\n",
       "      <th>Survived</th>\n",
       "    </tr>\n",
       "  </thead>\n",
       "  <tbody>\n",
       "    <tr>\n",
       "      <th>0</th>\n",
       "      <td>892</td>\n",
       "      <td>0</td>\n",
       "    </tr>\n",
       "    <tr>\n",
       "      <th>1</th>\n",
       "      <td>893</td>\n",
       "      <td>1</td>\n",
       "    </tr>\n",
       "    <tr>\n",
       "      <th>2</th>\n",
       "      <td>894</td>\n",
       "      <td>0</td>\n",
       "    </tr>\n",
       "    <tr>\n",
       "      <th>3</th>\n",
       "      <td>895</td>\n",
       "      <td>0</td>\n",
       "    </tr>\n",
       "    <tr>\n",
       "      <th>4</th>\n",
       "      <td>896</td>\n",
       "      <td>1</td>\n",
       "    </tr>\n",
       "  </tbody>\n",
       "</table>\n",
       "</div>"
      ],
      "text/plain": [
       "   PassengerId  Survived\n",
       "0          892         0\n",
       "1          893         1\n",
       "2          894         0\n",
       "3          895         0\n",
       "4          896         1"
      ]
     },
     "execution_count": 72,
     "metadata": {},
     "output_type": "execute_result"
    }
   ],
   "source": [
    "prediction_by_tuned_lr.head()"
   ]
  },
  {
   "cell_type": "code",
   "execution_count": 73,
   "id": "8d60d0c1",
   "metadata": {
    "papermill": {
     "duration": 0.049621,
     "end_time": "2023-02-24T05:13:53.133940",
     "exception": false,
     "start_time": "2023-02-24T05:13:53.084319",
     "status": "completed"
    },
    "tags": []
   },
   "outputs": [],
   "source": [
    "prediction_by_tuned_lr.to_csv(\"prediction_by_tuned_lr_20230224.csv\", index=False)"
   ]
  },
  {
   "cell_type": "markdown",
   "id": "e05062c9",
   "metadata": {
    "papermill": {
     "duration": 0.036893,
     "end_time": "2023-02-24T05:13:53.206830",
     "exception": false,
     "start_time": "2023-02-24T05:13:53.169937",
     "status": "completed"
    },
    "tags": []
   },
   "source": [
    "### Kaggle Score: 0.7799"
   ]
  },
  {
   "cell_type": "code",
   "execution_count": null,
   "id": "7cdc3337",
   "metadata": {
    "papermill": {
     "duration": 0.035974,
     "end_time": "2023-02-24T05:13:53.279971",
     "exception": false,
     "start_time": "2023-02-24T05:13:53.243997",
     "status": "completed"
    },
    "tags": []
   },
   "outputs": [],
   "source": []
  }
 ],
 "metadata": {
  "kernelspec": {
   "display_name": "Python [conda env:ls_env]",
   "language": "python",
   "name": "conda-env-ls_env-py"
  },
  "language_info": {
   "codemirror_mode": {
    "name": "ipython",
    "version": 3
   },
   "file_extension": ".py",
   "mimetype": "text/x-python",
   "name": "python",
   "nbconvert_exporter": "python",
   "pygments_lexer": "ipython3",
   "version": "3.10.8"
  },
  "papermill": {
   "default_parameters": {},
   "duration": 61.875739,
   "end_time": "2023-02-24T05:13:54.646351",
   "environment_variables": {},
   "exception": null,
   "input_path": "__notebook__.ipynb",
   "output_path": "__notebook__.ipynb",
   "parameters": {},
   "start_time": "2023-02-24T05:12:52.770612",
   "version": "2.3.4"
  }
 },
 "nbformat": 4,
 "nbformat_minor": 5
}
